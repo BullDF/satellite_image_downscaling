{
 "cells": [
  {
   "cell_type": "code",
   "execution_count": 1,
   "metadata": {},
   "outputs": [],
   "source": [
    "import xarray as xr\n",
    "import requests\n",
    "data_dir = '../data/'\n",
    "merra2_dir = data_dir + 'merra2/'\n",
    "meterology_dir = merra2_dir + 'meterology/'\n",
    "surface_flux_dir = merra2_dir + 'surface_flux/'"
   ]
  },
  {
   "cell_type": "code",
   "execution_count": 2,
   "metadata": {},
   "outputs": [],
   "source": [
    "links_list = open(surface_flux_dir + 'subset.txt', 'r')"
   ]
  },
  {
   "cell_type": "code",
   "execution_count": 3,
   "metadata": {},
   "outputs": [
    {
     "data": {
      "text/plain": [
       "'https://goldsmr4.gesdisc.eosdis.nasa.gov/data/MERRA2/M2T1NXFLX.5.12.4/doc/MERRA2.README.pdf\\n'"
      ]
     },
     "execution_count": 3,
     "metadata": {},
     "output_type": "execute_result"
    }
   ],
   "source": [
    "# Skip the first line\n",
    "links_list.readline()"
   ]
  },
  {
   "cell_type": "code",
   "execution_count": 4,
   "metadata": {},
   "outputs": [],
   "source": [
    "# Find the start point if not start from the beginning\n",
    "for line in links_list:\n",
    "    try:\n",
    "        year_index = line.index('2024')\n",
    "        date = line[year_index:year_index + 8]\n",
    "        if date == '20240514':\n",
    "            break\n",
    "    except ValueError:\n",
    "        pass"
   ]
  },
  {
   "cell_type": "code",
   "execution_count": 5,
   "metadata": {},
   "outputs": [
    {
     "name": "stdout",
     "output_type": "stream",
     "text": [
      "Written 20240515\n",
      "Written 20240516\n",
      "Written 20240517\n",
      "Written 20240518\n",
      "Written 20240519\n",
      "Written 20240520\n",
      "Written 20240521\n",
      "Written 20240522\n",
      "Written 20240523\n",
      "Written 20240524\n",
      "Written 20240525\n",
      "Written 20240526\n",
      "Written 20240527\n",
      "Written 20240528\n",
      "Written 20240529\n",
      "Written 20240530\n",
      "Written 20240531\n",
      "Written 20240601\n",
      "Written 20240602\n",
      "Written 20240603\n",
      "Written 20240604\n",
      "Written 20240605\n",
      "Written 20240606\n",
      "Written 20240607\n",
      "Written 20240608\n",
      "Written 20240609\n",
      "Written 20240610\n",
      "Written 20240611\n",
      "Written 20240612\n",
      "Written 20240613\n",
      "Written 20240614\n",
      "Written 20240615\n",
      "Written 20240616\n",
      "Written 20240617\n",
      "Written 20240618\n",
      "Written 20240619\n",
      "Written 20240620\n",
      "Written 20240621\n",
      "Written 20240622\n",
      "Written 20240623\n",
      "Written 20240624\n",
      "Written 20240625\n",
      "Written 20240626\n",
      "Written 20240627\n",
      "Written 20240628\n",
      "Written 20240629\n",
      "Written 20240630\n",
      "Written 20240701\n",
      "Written 20240702\n",
      "Written 20240703\n",
      "Written 20240704\n",
      "Written 20240705\n",
      "Written 20240706\n",
      "Written 20240707\n",
      "Written 20240708\n",
      "Written 20240709\n",
      "Written 20240710\n",
      "Written 20240711\n",
      "Written 20240712\n",
      "Written 20240713\n",
      "Written 20240714\n",
      "Written 20240715\n",
      "Written 20240716\n",
      "Written 20240717\n",
      "Written 20240718\n",
      "Written 20240719\n",
      "Written 20240720\n",
      "Written 20240721\n",
      "Written 20240722\n",
      "Written 20240723\n",
      "Written 20240724\n",
      "Written 20240725\n",
      "Written 20240726\n",
      "Written 20240727\n",
      "Written 20240728\n",
      "Written 20240729\n",
      "Written 20240730\n",
      "Written 20240731\n",
      "Written 20240801\n",
      "Written 20240802\n",
      "Written 20240803\n",
      "Written 20240804\n",
      "Written 20240805\n",
      "Written 20240806\n",
      "Written 20240807\n",
      "Written 20240808\n",
      "Written 20240809\n",
      "Written 20240810\n",
      "Written 20240811\n",
      "Written 20240812\n",
      "Written 20240813\n",
      "Written 20240814\n",
      "Written 20240815\n",
      "Written 20240816\n",
      "Written 20240817\n",
      "Written 20240818\n",
      "Written 20240819\n",
      "Written 20240820\n",
      "Written 20240821\n",
      "Written 20240822\n",
      "requests.get() returned an error code 503\n",
      "Written 20240824\n",
      "requests.get() returned an error code 403\n",
      "Written 20240826\n",
      "Written 20240827\n",
      "Written 20240828\n",
      "Written 20240829\n",
      "Written 20240830\n",
      "Written 20240831\n",
      "Written 20240901\n"
     ]
    }
   ],
   "source": [
    "# Pulling the data\n",
    "for line in links_list:\n",
    "    dataset_url = line.strip()\n",
    "    year_index = dataset_url.index('2024')\n",
    "    date = dataset_url[year_index:year_index + 8]\n",
    "\n",
    "    response = requests.get(dataset_url)\n",
    "    try:\n",
    "        response.raise_for_status()\n",
    "        f = open(surface_flux_dir + f'{date}.nc4', 'wb')\n",
    "        f.write(response.content)\n",
    "        f.close()\n",
    "        print(f'Written {date}')\n",
    "    except requests.exceptions.HTTPError:\n",
    "        print(f'requests.get() returned an error code {response.status_code}')\n",
    "    \n",
    "    if date == '20241231':\n",
    "        break\n"
   ]
  },
  {
   "cell_type": "code",
   "execution_count": null,
   "metadata": {},
   "outputs": [],
   "source": []
  }
 ],
 "metadata": {
  "kernelspec": {
   "display_name": "Python 3",
   "language": "python",
   "name": "python3"
  },
  "language_info": {
   "codemirror_mode": {
    "name": "ipython",
    "version": 3
   },
   "file_extension": ".py",
   "mimetype": "text/x-python",
   "name": "python",
   "nbconvert_exporter": "python",
   "pygments_lexer": "ipython3",
   "version": "3.12.0"
  }
 },
 "nbformat": 4,
 "nbformat_minor": 2
}
