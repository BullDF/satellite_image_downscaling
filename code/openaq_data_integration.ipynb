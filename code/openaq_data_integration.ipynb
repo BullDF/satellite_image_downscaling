{
 "cells": [
  {
   "cell_type": "code",
   "execution_count": 8,
   "metadata": {},
   "outputs": [],
   "source": [
    "import pandas as pd\n",
    "from config import *\n",
    "import requests"
   ]
  },
  {
   "cell_type": "code",
   "execution_count": 2,
   "metadata": {},
   "outputs": [],
   "source": [
    "data_dir = '../data/'"
   ]
  },
  {
   "cell_type": "markdown",
   "metadata": {},
   "source": [
    "# Merging"
   ]
  },
  {
   "cell_type": "code",
   "execution_count": 3,
   "metadata": {},
   "outputs": [],
   "source": [
    "documents = [\n",
    "    \"openaq_baghdad_airnow_8839.csv\",\n",
    "    \"openaq_baghdad_embassy_8887.csv\",\n",
    "    \"openaq_bahrain_7479.csv\",\n",
    "    \"openaq_doha_309834.csv\",\n",
    "    \"openaq_dubai_2981155.csv\",\n",
    "    \"openaq_kuwait_8103.csv\",\n",
    "    \"openaq_kyrgyzstan_osh_state_university_2812567.csv\",\n",
    "    \"openaq_tajikistan_dushanbe_8684.csv\",\n",
    "    \"openaq_tajikistan_embassy_9769.csv\",\n",
    "    \"openaq_turkmenistan_8170.csv\",\n",
    "    \"openaq_uzbekistan_8881.csv\"\n",
    "]"
   ]
  },
  {
   "cell_type": "code",
   "execution_count": 4,
   "metadata": {},
   "outputs": [],
   "source": [
    "countries = [\n",
    "    \"Baghdad Airnow\",\n",
    "    \"Baghdad Embassy\",\n",
    "    \"Bahrain\",\n",
    "    \"Doha\",\n",
    "    \"Dubai\",\n",
    "    \"Kuwait\",\n",
    "    \"Kyrgyzstan\",\n",
    "    \"Tajikistan Dushanbe\",\n",
    "    \"Tajikistan Embassy\",\n",
    "    \"Turkmenistan\",\n",
    "    \"Uzbekistan\"\n",
    "]"
   ]
  },
  {
   "cell_type": "code",
   "execution_count": 5,
   "metadata": {},
   "outputs": [],
   "source": [
    "# Liste des numéros d'identité des sites\n",
    "site_ids = [\n",
    "    \"8839\",\n",
    "    \"8887\",\n",
    "    \"7479\",\n",
    "    \"309834\",\n",
    "    \"2981155\",\n",
    "    \"8103\",\n",
    "    \"2812567\",\n",
    "    \"8684\",\n",
    "    \"9769\",\n",
    "    \"8170\",\n",
    "    \"8881\"\n",
    "]"
   ]
  },
  {
   "cell_type": "code",
   "execution_count": 12,
   "metadata": {},
   "outputs": [
    {
     "data": {
      "text/plain": [
       "11"
      ]
     },
     "execution_count": 12,
     "metadata": {},
     "output_type": "execute_result"
    }
   ],
   "source": [
    "num_sites = len(documents)\n",
    "num_sites"
   ]
  },
  {
   "cell_type": "code",
   "execution_count": 7,
   "metadata": {},
   "outputs": [
    {
     "data": {
      "text/html": [
       "<div>\n",
       "<style scoped>\n",
       "    .dataframe tbody tr th:only-of-type {\n",
       "        vertical-align: middle;\n",
       "    }\n",
       "\n",
       "    .dataframe tbody tr th {\n",
       "        vertical-align: top;\n",
       "    }\n",
       "\n",
       "    .dataframe thead th {\n",
       "        text-align: right;\n",
       "    }\n",
       "</style>\n",
       "<table border=\"1\" class=\"dataframe\">\n",
       "  <thead>\n",
       "    <tr style=\"text-align: right;\">\n",
       "      <th></th>\n",
       "    </tr>\n",
       "  </thead>\n",
       "  <tbody>\n",
       "  </tbody>\n",
       "</table>\n",
       "</div>"
      ],
      "text/plain": [
       "Empty DataFrame\n",
       "Columns: []\n",
       "Index: []"
      ]
     },
     "execution_count": 7,
     "metadata": {},
     "output_type": "execute_result"
    }
   ],
   "source": [
    "df = pd.DataFrame()\n",
    "df"
   ]
  },
  {
   "cell_type": "code",
   "execution_count": 9,
   "metadata": {},
   "outputs": [],
   "source": [
    "for i in range(num_sites):\n",
    "    site_id = site_ids[i]\n",
    "    document = documents[i]\n",
    "    site_name = countries[i]\n",
    "    \n",
    "    response = requests.get(\n",
    "        url=f'https://api.openaq.org/v3/locations/{site_id}',\n",
    "        headers={'X-API-Key': api_key}\n",
    "    )\n",
    "    json = response.json()\n",
    "    lat = json['results'][0]['coordinates']['latitude']\n",
    "    lon = json['results'][0]['coordinates']['longitude']\n",
    "\n",
    "    data = pd.read_csv(data_dir + document)\n",
    "    data['site_id'] = site_id\n",
    "    data['site_name'] = site_name\n",
    "    data['lat'] = lat\n",
    "    data['lon'] = lon\n",
    "\n",
    "    df = pd.concat([df, data])"
   ]
  },
  {
   "cell_type": "code",
   "execution_count": 10,
   "metadata": {},
   "outputs": [
    {
     "data": {
      "text/html": [
       "<div>\n",
       "<style scoped>\n",
       "    .dataframe tbody tr th:only-of-type {\n",
       "        vertical-align: middle;\n",
       "    }\n",
       "\n",
       "    .dataframe tbody tr th {\n",
       "        vertical-align: top;\n",
       "    }\n",
       "\n",
       "    .dataframe thead th {\n",
       "        text-align: right;\n",
       "    }\n",
       "</style>\n",
       "<table border=\"1\" class=\"dataframe\">\n",
       "  <thead>\n",
       "    <tr style=\"text-align: right;\">\n",
       "      <th></th>\n",
       "      <th>value</th>\n",
       "      <th>utc</th>\n",
       "      <th>local</th>\n",
       "      <th>parameter</th>\n",
       "      <th>units</th>\n",
       "      <th>site_id</th>\n",
       "      <th>site_name</th>\n",
       "      <th>lat</th>\n",
       "      <th>lon</th>\n",
       "    </tr>\n",
       "  </thead>\n",
       "  <tbody>\n",
       "    <tr>\n",
       "      <th>0</th>\n",
       "      <td>31.0</td>\n",
       "      <td>2019-10-28T19:00:00Z</td>\n",
       "      <td>2019-10-28T22:00:00+03:00</td>\n",
       "      <td>pm25</td>\n",
       "      <td>µg/m³</td>\n",
       "      <td>8839</td>\n",
       "      <td>Baghdad Airnow</td>\n",
       "      <td>33.3128</td>\n",
       "      <td>44.3615</td>\n",
       "    </tr>\n",
       "    <tr>\n",
       "      <th>1</th>\n",
       "      <td>44.0</td>\n",
       "      <td>2019-10-28T21:00:00Z</td>\n",
       "      <td>2019-10-29T00:00:00+03:00</td>\n",
       "      <td>pm25</td>\n",
       "      <td>µg/m³</td>\n",
       "      <td>8839</td>\n",
       "      <td>Baghdad Airnow</td>\n",
       "      <td>33.3128</td>\n",
       "      <td>44.3615</td>\n",
       "    </tr>\n",
       "    <tr>\n",
       "      <th>2</th>\n",
       "      <td>27.0</td>\n",
       "      <td>2019-10-28T22:00:00Z</td>\n",
       "      <td>2019-10-29T01:00:00+03:00</td>\n",
       "      <td>pm25</td>\n",
       "      <td>µg/m³</td>\n",
       "      <td>8839</td>\n",
       "      <td>Baghdad Airnow</td>\n",
       "      <td>33.3128</td>\n",
       "      <td>44.3615</td>\n",
       "    </tr>\n",
       "    <tr>\n",
       "      <th>3</th>\n",
       "      <td>20.0</td>\n",
       "      <td>2019-10-29T00:00:00Z</td>\n",
       "      <td>2019-10-29T03:00:00+03:00</td>\n",
       "      <td>pm25</td>\n",
       "      <td>µg/m³</td>\n",
       "      <td>8839</td>\n",
       "      <td>Baghdad Airnow</td>\n",
       "      <td>33.3128</td>\n",
       "      <td>44.3615</td>\n",
       "    </tr>\n",
       "    <tr>\n",
       "      <th>4</th>\n",
       "      <td>15.0</td>\n",
       "      <td>2019-10-29T01:00:00Z</td>\n",
       "      <td>2019-10-29T04:00:00+03:00</td>\n",
       "      <td>pm25</td>\n",
       "      <td>µg/m³</td>\n",
       "      <td>8839</td>\n",
       "      <td>Baghdad Airnow</td>\n",
       "      <td>33.3128</td>\n",
       "      <td>44.3615</td>\n",
       "    </tr>\n",
       "  </tbody>\n",
       "</table>\n",
       "</div>"
      ],
      "text/plain": [
       "   value                   utc                      local parameter  units  \\\n",
       "0   31.0  2019-10-28T19:00:00Z  2019-10-28T22:00:00+03:00      pm25  µg/m³   \n",
       "1   44.0  2019-10-28T21:00:00Z  2019-10-29T00:00:00+03:00      pm25  µg/m³   \n",
       "2   27.0  2019-10-28T22:00:00Z  2019-10-29T01:00:00+03:00      pm25  µg/m³   \n",
       "3   20.0  2019-10-29T00:00:00Z  2019-10-29T03:00:00+03:00      pm25  µg/m³   \n",
       "4   15.0  2019-10-29T01:00:00Z  2019-10-29T04:00:00+03:00      pm25  µg/m³   \n",
       "\n",
       "  site_id       site_name      lat      lon  \n",
       "0    8839  Baghdad Airnow  33.3128  44.3615  \n",
       "1    8839  Baghdad Airnow  33.3128  44.3615  \n",
       "2    8839  Baghdad Airnow  33.3128  44.3615  \n",
       "3    8839  Baghdad Airnow  33.3128  44.3615  \n",
       "4    8839  Baghdad Airnow  33.3128  44.3615  "
      ]
     },
     "execution_count": 10,
     "metadata": {},
     "output_type": "execute_result"
    }
   ],
   "source": [
    "df.head()"
   ]
  },
  {
   "cell_type": "code",
   "execution_count": 11,
   "metadata": {},
   "outputs": [
    {
     "data": {
      "text/plain": [
       "(358145, 9)"
      ]
     },
     "execution_count": 11,
     "metadata": {},
     "output_type": "execute_result"
    }
   ],
   "source": [
    "df.shape"
   ]
  },
  {
   "cell_type": "code",
   "execution_count": 16,
   "metadata": {},
   "outputs": [
    {
     "data": {
      "text/plain": [
       "lat\n",
       "26.204697    61747\n",
       "29.292317    58745\n",
       "41.367200    47804\n",
       "33.298722    39592\n",
       "37.941857    36078\n",
       "38.579708    36043\n",
       "38.557671    35976\n",
       "33.312800    25345\n",
       "25.333700    12085\n",
       "40.537200     3137\n",
       "25.092213     1593\n",
       "Name: count, dtype: int64"
      ]
     },
     "execution_count": 16,
     "metadata": {},
     "output_type": "execute_result"
    }
   ],
   "source": [
    "df['lat'].value_counts()"
   ]
  },
  {
   "cell_type": "code",
   "execution_count": 17,
   "metadata": {},
   "outputs": [
    {
     "data": {
      "text/plain": [
       "lon\n",
       "50.570833    61747\n",
       "48.047679    58745\n",
       "69.272500    47804\n",
       "44.395917    39592\n",
       "58.387945    36078\n",
       "68.712176    36043\n",
       "68.775917    35976\n",
       "44.361500    25345\n",
       "51.229530    12085\n",
       "72.805310     3137\n",
       "55.168125     1593\n",
       "Name: count, dtype: int64"
      ]
     },
     "execution_count": 17,
     "metadata": {},
     "output_type": "execute_result"
    }
   ],
   "source": [
    "df['lon'].value_counts()"
   ]
  },
  {
   "cell_type": "code",
   "execution_count": 18,
   "metadata": {},
   "outputs": [],
   "source": [
    "df.to_csv(data_dir + 'openaq_integrated.csv', index=False)"
   ]
  }
 ],
 "metadata": {
  "kernelspec": {
   "display_name": "Python 3",
   "language": "python",
   "name": "python3"
  },
  "language_info": {
   "codemirror_mode": {
    "name": "ipython",
    "version": 3
   },
   "file_extension": ".py",
   "mimetype": "text/x-python",
   "name": "python",
   "nbconvert_exporter": "python",
   "pygments_lexer": "ipython3",
   "version": "3.12.0"
  }
 },
 "nbformat": 4,
 "nbformat_minor": 2
}
