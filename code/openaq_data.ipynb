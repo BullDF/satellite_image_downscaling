{
 "cells": [
  {
   "cell_type": "code",
   "execution_count": 1,
   "metadata": {},
   "outputs": [],
   "source": [
    "from utils import *"
   ]
  },
  {
   "cell_type": "code",
   "execution_count": 9,
   "metadata": {},
   "outputs": [],
   "source": [
    "import pandas as pd"
   ]
  },
  {
   "cell_type": "code",
   "execution_count": 4,
   "metadata": {},
   "outputs": [],
   "source": [
    "data_dir = '../data/'"
   ]
  },
  {
   "cell_type": "markdown",
   "metadata": {},
   "source": [
    "# Dubai - 2981155"
   ]
  },
  {
   "cell_type": "code",
   "execution_count": 6,
   "metadata": {},
   "outputs": [
    {
     "data": {
      "text/plain": [
       "[10071460, 10071461, 10071465, 10071467, 10071470, 10071471]"
      ]
     },
     "execution_count": 6,
     "metadata": {},
     "output_type": "execute_result"
    }
   ],
   "source": [
    "dubai_sensors_ids = get_sensors_ids(2981155)\n",
    "dubai_sensors_ids"
   ]
  },
  {
   "cell_type": "code",
   "execution_count": 7,
   "metadata": {},
   "outputs": [
    {
     "data": {
      "text/plain": [
       "[10071461]"
      ]
     },
     "execution_count": 7,
     "metadata": {},
     "output_type": "execute_result"
    }
   ],
   "source": [
    "dubai_sensors_ids = validate_sensors_ids(dubai_sensors_ids)\n",
    "dubai_sensors_ids"
   ]
  },
  {
   "cell_type": "code",
   "execution_count": 8,
   "metadata": {},
   "outputs": [
    {
     "data": {
      "text/html": [
       "<div>\n",
       "<style scoped>\n",
       "    .dataframe tbody tr th:only-of-type {\n",
       "        vertical-align: middle;\n",
       "    }\n",
       "\n",
       "    .dataframe tbody tr th {\n",
       "        vertical-align: top;\n",
       "    }\n",
       "\n",
       "    .dataframe thead th {\n",
       "        text-align: right;\n",
       "    }\n",
       "</style>\n",
       "<table border=\"1\" class=\"dataframe\">\n",
       "  <thead>\n",
       "    <tr style=\"text-align: right;\">\n",
       "      <th></th>\n",
       "      <th>value</th>\n",
       "      <th>utc</th>\n",
       "      <th>local</th>\n",
       "    </tr>\n",
       "  </thead>\n",
       "  <tbody>\n",
       "  </tbody>\n",
       "</table>\n",
       "</div>"
      ],
      "text/plain": [
       "Empty DataFrame\n",
       "Columns: [value, utc, local]\n",
       "Index: []"
      ]
     },
     "execution_count": 8,
     "metadata": {},
     "output_type": "execute_result"
    }
   ],
   "source": [
    "dubai_df = pd.DataFrame(columns=['value', 'utc', 'local', 'parameter', 'units'])\n",
    "dubai_df"
   ]
  },
  {
   "cell_type": "code",
   "execution_count": 9,
   "metadata": {},
   "outputs": [
    {
     "name": "stdout",
     "output_type": "stream",
     "text": [
      "2024-1 to 2024-2: 0\n",
      "2024-2 to 2024-3: 0\n",
      "2024-3 to 2024-4: 0\n",
      "2024-4 to 2024-5: 0\n",
      "2024-5 to 2024-6: 0\n",
      "2024-6 to 2024-7: 0\n",
      "2024-7 to 2024-8: 148\n"
     ]
    },
    {
     "name": "stderr",
     "output_type": "stream",
     "text": [
      "/var/folders/yg/c525c7x92dzdbplgm0_j_39r0000gn/T/ipykernel_52951/4058671578.py:7: FutureWarning: The behavior of DataFrame concatenation with empty or all-NA entries is deprecated. In a future version, this will no longer exclude empty or all-NA columns when determining the result dtypes. To retain the old behavior, exclude the relevant entries before the concat operation.\n",
      "  dubai_df = pd.concat([dubai_df, data])\n"
     ]
    },
    {
     "name": "stdout",
     "output_type": "stream",
     "text": [
      "2024-8 to 2024-9: 725\n",
      "2024-9 to 2024-10: 696\n",
      "2024-10 to 2024-11: 24\n",
      "2024-11 to 2024-12: 0\n",
      "2024-12 to 2025-1: 0\n"
     ]
    }
   ],
   "source": [
    "for year in range(2024, 2025):\n",
    "    for month in range(1, 13):\n",
    "        data = get_data(10071461, year, month)\n",
    "        if isinstance(data, requests.models.Response):\n",
    "            break\n",
    "        dubai_df = pd.concat([dubai_df, data])"
   ]
  },
  {
   "cell_type": "code",
   "execution_count": 10,
   "metadata": {},
   "outputs": [
    {
     "data": {
      "text/html": [
       "<div>\n",
       "<style scoped>\n",
       "    .dataframe tbody tr th:only-of-type {\n",
       "        vertical-align: middle;\n",
       "    }\n",
       "\n",
       "    .dataframe tbody tr th {\n",
       "        vertical-align: top;\n",
       "    }\n",
       "\n",
       "    .dataframe thead th {\n",
       "        text-align: right;\n",
       "    }\n",
       "</style>\n",
       "<table border=\"1\" class=\"dataframe\">\n",
       "  <thead>\n",
       "    <tr style=\"text-align: right;\">\n",
       "      <th></th>\n",
       "      <th>value</th>\n",
       "      <th>utc</th>\n",
       "      <th>local</th>\n",
       "      <th>parameter</th>\n",
       "      <th>units</th>\n",
       "    </tr>\n",
       "  </thead>\n",
       "  <tbody>\n",
       "    <tr>\n",
       "      <th>0</th>\n",
       "      <td>40.0</td>\n",
       "      <td>2024-07-25T16:00:00Z</td>\n",
       "      <td>2024-07-25T20:00:00+04:00</td>\n",
       "      <td>pm25</td>\n",
       "      <td>µg/m³</td>\n",
       "    </tr>\n",
       "    <tr>\n",
       "      <th>1</th>\n",
       "      <td>53.0</td>\n",
       "      <td>2024-07-25T17:00:00Z</td>\n",
       "      <td>2024-07-25T21:00:00+04:00</td>\n",
       "      <td>pm25</td>\n",
       "      <td>µg/m³</td>\n",
       "    </tr>\n",
       "    <tr>\n",
       "      <th>2</th>\n",
       "      <td>45.0</td>\n",
       "      <td>2024-07-25T18:00:00Z</td>\n",
       "      <td>2024-07-25T22:00:00+04:00</td>\n",
       "      <td>pm25</td>\n",
       "      <td>µg/m³</td>\n",
       "    </tr>\n",
       "    <tr>\n",
       "      <th>3</th>\n",
       "      <td>47.0</td>\n",
       "      <td>2024-07-25T19:00:00Z</td>\n",
       "      <td>2024-07-25T23:00:00+04:00</td>\n",
       "      <td>pm25</td>\n",
       "      <td>µg/m³</td>\n",
       "    </tr>\n",
       "    <tr>\n",
       "      <th>4</th>\n",
       "      <td>54.0</td>\n",
       "      <td>2024-07-25T20:00:00Z</td>\n",
       "      <td>2024-07-26T00:00:00+04:00</td>\n",
       "      <td>pm25</td>\n",
       "      <td>µg/m³</td>\n",
       "    </tr>\n",
       "  </tbody>\n",
       "</table>\n",
       "</div>"
      ],
      "text/plain": [
       "   value                   utc                      local parameter  units\n",
       "0   40.0  2024-07-25T16:00:00Z  2024-07-25T20:00:00+04:00      pm25  µg/m³\n",
       "1   53.0  2024-07-25T17:00:00Z  2024-07-25T21:00:00+04:00      pm25  µg/m³\n",
       "2   45.0  2024-07-25T18:00:00Z  2024-07-25T22:00:00+04:00      pm25  µg/m³\n",
       "3   47.0  2024-07-25T19:00:00Z  2024-07-25T23:00:00+04:00      pm25  µg/m³\n",
       "4   54.0  2024-07-25T20:00:00Z  2024-07-26T00:00:00+04:00      pm25  µg/m³"
      ]
     },
     "execution_count": 10,
     "metadata": {},
     "output_type": "execute_result"
    }
   ],
   "source": [
    "dubai_df.head()"
   ]
  },
  {
   "cell_type": "code",
   "execution_count": 20,
   "metadata": {},
   "outputs": [
    {
     "data": {
      "text/plain": [
       "(1593, 5)"
      ]
     },
     "execution_count": 20,
     "metadata": {},
     "output_type": "execute_result"
    }
   ],
   "source": [
    "dubai_df.shape"
   ]
  },
  {
   "cell_type": "code",
   "execution_count": 12,
   "metadata": {},
   "outputs": [],
   "source": [
    "dubai_df.to_csv(data_dir + 'openaq_dubai_2981155.csv', index=False)"
   ]
  },
  {
   "cell_type": "markdown",
   "metadata": {},
   "source": [
    "# Doha - 309834"
   ]
  },
  {
   "cell_type": "code",
   "execution_count": 4,
   "metadata": {},
   "outputs": [
    {
     "data": {
      "text/plain": [
       "[1757563, 1757564]"
      ]
     },
     "execution_count": 4,
     "metadata": {},
     "output_type": "execute_result"
    }
   ],
   "source": [
    "doha_sensors_ids = get_sensors_ids(309834)\n",
    "doha_sensors_ids"
   ]
  },
  {
   "cell_type": "code",
   "execution_count": 5,
   "metadata": {},
   "outputs": [
    {
     "data": {
      "text/plain": [
       "[1757563]"
      ]
     },
     "execution_count": 5,
     "metadata": {},
     "output_type": "execute_result"
    }
   ],
   "source": [
    "doha_sensors_ids = validate_sensors_ids(doha_sensors_ids)\n",
    "doha_sensors_ids"
   ]
  },
  {
   "cell_type": "code",
   "execution_count": 6,
   "metadata": {},
   "outputs": [
    {
     "data": {
      "text/html": [
       "<div>\n",
       "<style scoped>\n",
       "    .dataframe tbody tr th:only-of-type {\n",
       "        vertical-align: middle;\n",
       "    }\n",
       "\n",
       "    .dataframe tbody tr th {\n",
       "        vertical-align: top;\n",
       "    }\n",
       "\n",
       "    .dataframe thead th {\n",
       "        text-align: right;\n",
       "    }\n",
       "</style>\n",
       "<table border=\"1\" class=\"dataframe\">\n",
       "  <thead>\n",
       "    <tr style=\"text-align: right;\">\n",
       "      <th></th>\n",
       "      <th>value</th>\n",
       "      <th>utc</th>\n",
       "      <th>local</th>\n",
       "    </tr>\n",
       "  </thead>\n",
       "  <tbody>\n",
       "  </tbody>\n",
       "</table>\n",
       "</div>"
      ],
      "text/plain": [
       "Empty DataFrame\n",
       "Columns: [value, utc, local]\n",
       "Index: []"
      ]
     },
     "execution_count": 6,
     "metadata": {},
     "output_type": "execute_result"
    }
   ],
   "source": [
    "doha_df = pd.DataFrame(columns=['value', 'utc', 'local', 'parameter', 'units'])\n",
    "doha_df"
   ]
  },
  {
   "cell_type": "code",
   "execution_count": 7,
   "metadata": {},
   "outputs": [
    {
     "name": "stdout",
     "output_type": "stream",
     "text": [
      "2022-1 to 2022-2: 0\n",
      "2022-2 to 2022-3: 0\n",
      "2022-3 to 2022-4: 0\n",
      "2022-4 to 2022-5: 425\n"
     ]
    },
    {
     "name": "stderr",
     "output_type": "stream",
     "text": [
      "/var/folders/yg/c525c7x92dzdbplgm0_j_39r0000gn/T/ipykernel_52765/3071789808.py:7: FutureWarning: The behavior of DataFrame concatenation with empty or all-NA entries is deprecated. In a future version, this will no longer exclude empty or all-NA columns when determining the result dtypes. To retain the old behavior, exclude the relevant entries before the concat operation.\n",
      "  doha_df = pd.concat([doha_df, data])\n"
     ]
    },
    {
     "name": "stdout",
     "output_type": "stream",
     "text": [
      "2022-5 to 2022-6: 289\n",
      "2022-6 to 2022-7: 643\n",
      "2022-7 to 2022-8: 563\n",
      "2022-8 to 2022-9: 447\n",
      "2022-9 to 2022-10: 27\n",
      "2022-10 to 2022-11: 714\n",
      "2022-11 to 2022-12: 695\n",
      "2022-12 to 2023-1: 630\n",
      "2023-1 to 2023-2: 572\n",
      "2023-2 to 2023-3: 76\n",
      "2023-3 to 2023-4: 224\n",
      "2023-4 to 2023-5: 531\n",
      "2023-5 to 2023-6: 506\n",
      "2023-6 to 2023-7: 473\n",
      "2023-7 to 2023-8: 632\n",
      "2023-8 to 2023-9: 558\n",
      "2023-9 to 2023-10: 525\n",
      "2023-10 to 2023-11: 660\n",
      "2023-11 to 2023-12: 667\n",
      "2023-12 to 2024-1: 0\n",
      "2024-1 to 2024-2: 0\n",
      "2024-2 to 2024-3: 0\n",
      "2024-3 to 2024-4: 0\n",
      "2024-4 to 2024-5: 0\n",
      "2024-5 to 2024-6: 0\n",
      "2024-6 to 2024-7: 454\n",
      "2024-7 to 2024-8: 371\n",
      "2024-8 to 2024-9: 662\n",
      "2024-9 to 2024-10: 720\n",
      "2024-10 to 2024-11: 21\n",
      "2024-11 to 2024-12: 0\n",
      "2024-12 to 2025-1: 0\n"
     ]
    }
   ],
   "source": [
    "for year in range(2022, 2025):\n",
    "    for month in range(1, 13):\n",
    "        data = get_data(1757563, year, month)\n",
    "        if isinstance(data, requests.models.Response):\n",
    "            break\n",
    "        doha_df = pd.concat([doha_df, data])"
   ]
  },
  {
   "cell_type": "code",
   "execution_count": 8,
   "metadata": {},
   "outputs": [
    {
     "data": {
      "text/html": [
       "<div>\n",
       "<style scoped>\n",
       "    .dataframe tbody tr th:only-of-type {\n",
       "        vertical-align: middle;\n",
       "    }\n",
       "\n",
       "    .dataframe tbody tr th {\n",
       "        vertical-align: top;\n",
       "    }\n",
       "\n",
       "    .dataframe thead th {\n",
       "        text-align: right;\n",
       "    }\n",
       "</style>\n",
       "<table border=\"1\" class=\"dataframe\">\n",
       "  <thead>\n",
       "    <tr style=\"text-align: right;\">\n",
       "      <th></th>\n",
       "      <th>value</th>\n",
       "      <th>utc</th>\n",
       "      <th>local</th>\n",
       "      <th>parameter</th>\n",
       "      <th>units</th>\n",
       "    </tr>\n",
       "  </thead>\n",
       "  <tbody>\n",
       "    <tr>\n",
       "      <th>0</th>\n",
       "      <td>79.0</td>\n",
       "      <td>2022-04-11T15:00:00Z</td>\n",
       "      <td>2022-04-11T18:00:00+03:00</td>\n",
       "      <td>pm25</td>\n",
       "      <td>µg/m³</td>\n",
       "    </tr>\n",
       "    <tr>\n",
       "      <th>1</th>\n",
       "      <td>71.0</td>\n",
       "      <td>2022-04-11T16:00:00Z</td>\n",
       "      <td>2022-04-11T19:00:00+03:00</td>\n",
       "      <td>pm25</td>\n",
       "      <td>µg/m³</td>\n",
       "    </tr>\n",
       "    <tr>\n",
       "      <th>2</th>\n",
       "      <td>70.0</td>\n",
       "      <td>2022-04-11T17:00:00Z</td>\n",
       "      <td>2022-04-11T20:00:00+03:00</td>\n",
       "      <td>pm25</td>\n",
       "      <td>µg/m³</td>\n",
       "    </tr>\n",
       "    <tr>\n",
       "      <th>3</th>\n",
       "      <td>72.0</td>\n",
       "      <td>2022-04-11T18:00:00Z</td>\n",
       "      <td>2022-04-11T21:00:00+03:00</td>\n",
       "      <td>pm25</td>\n",
       "      <td>µg/m³</td>\n",
       "    </tr>\n",
       "    <tr>\n",
       "      <th>4</th>\n",
       "      <td>86.0</td>\n",
       "      <td>2022-04-11T19:00:00Z</td>\n",
       "      <td>2022-04-11T22:00:00+03:00</td>\n",
       "      <td>pm25</td>\n",
       "      <td>µg/m³</td>\n",
       "    </tr>\n",
       "  </tbody>\n",
       "</table>\n",
       "</div>"
      ],
      "text/plain": [
       "   value                   utc                      local parameter  units\n",
       "0   79.0  2022-04-11T15:00:00Z  2022-04-11T18:00:00+03:00      pm25  µg/m³\n",
       "1   71.0  2022-04-11T16:00:00Z  2022-04-11T19:00:00+03:00      pm25  µg/m³\n",
       "2   70.0  2022-04-11T17:00:00Z  2022-04-11T20:00:00+03:00      pm25  µg/m³\n",
       "3   72.0  2022-04-11T18:00:00Z  2022-04-11T21:00:00+03:00      pm25  µg/m³\n",
       "4   86.0  2022-04-11T19:00:00Z  2022-04-11T22:00:00+03:00      pm25  µg/m³"
      ]
     },
     "execution_count": 8,
     "metadata": {},
     "output_type": "execute_result"
    }
   ],
   "source": [
    "doha_df.head()"
   ]
  },
  {
   "cell_type": "code",
   "execution_count": 19,
   "metadata": {},
   "outputs": [
    {
     "ename": "NameError",
     "evalue": "name 'doha_df' is not defined",
     "output_type": "error",
     "traceback": [
      "\u001b[0;31m---------------------------------------------------------------------------\u001b[0m",
      "\u001b[0;31mNameError\u001b[0m                                 Traceback (most recent call last)",
      "Cell \u001b[0;32mIn[19], line 1\u001b[0m\n\u001b[0;32m----> 1\u001b[0m \u001b[38;5;28mlen\u001b[39m(\u001b[43mdoha_df\u001b[49m)\n",
      "\u001b[0;31mNameError\u001b[0m: name 'doha_df' is not defined"
     ]
    }
   ],
   "source": [
    "doha_df.shape"
   ]
  },
  {
   "cell_type": "code",
   "execution_count": 14,
   "metadata": {},
   "outputs": [],
   "source": [
    "doha_df.to_csv(data_dir + 'openaq_doha_309834.csv', index=False)"
   ]
  },
  {
   "cell_type": "markdown",
   "metadata": {},
   "source": [
    "# Bahrain - 7479"
   ]
  },
  {
   "cell_type": "code",
   "execution_count": 13,
   "metadata": {},
   "outputs": [
    {
     "data": {
      "text/plain": [
       "[21703, 22562]"
      ]
     },
     "execution_count": 13,
     "metadata": {},
     "output_type": "execute_result"
    }
   ],
   "source": [
    "bahrain_sensors_ids = get_sensors_ids(7479)\n",
    "bahrain_sensors_ids"
   ]
  },
  {
   "cell_type": "code",
   "execution_count": 14,
   "metadata": {},
   "outputs": [
    {
     "data": {
      "text/plain": [
       "[22562]"
      ]
     },
     "execution_count": 14,
     "metadata": {},
     "output_type": "execute_result"
    }
   ],
   "source": [
    "bahrain_sensors_ids = validate_sensors_ids(bahrain_sensors_ids)\n",
    "bahrain_sensors_ids"
   ]
  },
  {
   "cell_type": "code",
   "execution_count": 15,
   "metadata": {},
   "outputs": [
    {
     "data": {
      "text/html": [
       "<div>\n",
       "<style scoped>\n",
       "    .dataframe tbody tr th:only-of-type {\n",
       "        vertical-align: middle;\n",
       "    }\n",
       "\n",
       "    .dataframe tbody tr th {\n",
       "        vertical-align: top;\n",
       "    }\n",
       "\n",
       "    .dataframe thead th {\n",
       "        text-align: right;\n",
       "    }\n",
       "</style>\n",
       "<table border=\"1\" class=\"dataframe\">\n",
       "  <thead>\n",
       "    <tr style=\"text-align: right;\">\n",
       "      <th></th>\n",
       "      <th>value</th>\n",
       "      <th>utc</th>\n",
       "      <th>local</th>\n",
       "      <th>parameter</th>\n",
       "      <th>units</th>\n",
       "    </tr>\n",
       "  </thead>\n",
       "  <tbody>\n",
       "  </tbody>\n",
       "</table>\n",
       "</div>"
      ],
      "text/plain": [
       "Empty DataFrame\n",
       "Columns: [value, utc, local, parameter, units]\n",
       "Index: []"
      ]
     },
     "execution_count": 15,
     "metadata": {},
     "output_type": "execute_result"
    }
   ],
   "source": [
    "bahrain_df = pd.DataFrame(columns=['value', 'utc', 'local', 'parameter', 'units'])\n",
    "bahrain_df"
   ]
  },
  {
   "cell_type": "code",
   "execution_count": 16,
   "metadata": {},
   "outputs": [
    {
     "name": "stdout",
     "output_type": "stream",
     "text": [
      "2016-1 to 2016-2: 0\n",
      "2016-2 to 2016-3: 0\n",
      "2016-3 to 2016-4: 0\n",
      "2016-4 to 2016-5: 0\n",
      "2016-5 to 2016-6: 0\n",
      "2016-6 to 2016-7: 0\n",
      "2016-7 to 2016-8: 0\n",
      "2016-8 to 2016-9: 0\n",
      "2016-9 to 2016-10: 0\n",
      "2016-10 to 2016-11: 0\n",
      "2016-11 to 2016-12: 0\n",
      "2016-12 to 2017-1: 696\n"
     ]
    },
    {
     "name": "stderr",
     "output_type": "stream",
     "text": [
      "/var/folders/yg/c525c7x92dzdbplgm0_j_39r0000gn/T/ipykernel_52951/2790836245.py:7: FutureWarning: The behavior of DataFrame concatenation with empty or all-NA entries is deprecated. In a future version, this will no longer exclude empty or all-NA columns when determining the result dtypes. To retain the old behavior, exclude the relevant entries before the concat operation.\n",
      "  bahrain_df = pd.concat([bahrain_df, data])\n"
     ]
    },
    {
     "name": "stdout",
     "output_type": "stream",
     "text": [
      "2017-1 to 2017-2: 720\n",
      "2017-2 to 2017-3: 648\n",
      "2017-3 to 2017-4: 714\n",
      "2017-4 to 2017-5: 696\n",
      "2017-5 to 2017-6: 720\n",
      "2017-6 to 2017-7: 696\n",
      "2017-7 to 2017-8: 481\n",
      "2017-8 to 2017-9: 436\n",
      "2017-9 to 2017-10: 594\n",
      "2017-10 to 2017-11: 657\n",
      "2017-11 to 2017-12: 515\n",
      "2017-12 to 2018-1: 165\n",
      "2018-1 to 2018-2: 481\n",
      "2018-2 to 2018-3: 347\n",
      "2018-3 to 2018-4: 471\n",
      "2018-4 to 2018-5: 555\n",
      "2018-5 to 2018-6: 589\n",
      "2018-6 to 2018-7: 636\n",
      "2018-7 to 2018-8: 698\n",
      "2018-8 to 2018-9: 625\n",
      "2018-9 to 2018-10: 650\n",
      "2018-10 to 2018-11: 654\n",
      "2018-11 to 2018-12: 690\n",
      "2018-12 to 2019-1: 669\n",
      "2019-1 to 2019-2: 720\n",
      "2019-2 to 2019-3: 629\n",
      "2019-3 to 2019-4: 714\n",
      "2019-4 to 2019-5: 661\n",
      "2019-5 to 2019-6: 697\n",
      "2019-6 to 2019-7: 685\n",
      "2019-7 to 2019-8: 709\n",
      "2019-8 to 2019-9: 720\n",
      "2019-9 to 2019-10: 696\n",
      "2019-10 to 2019-11: 720\n",
      "2019-11 to 2019-12: 692\n",
      "2019-12 to 2020-1: 710\n",
      "2020-1 to 2020-2: 720\n",
      "2020-2 to 2020-3: 672\n",
      "2020-3 to 2020-4: 710\n",
      "2020-4 to 2020-5: 671\n",
      "2020-5 to 2020-6: 628\n",
      "2020-6 to 2020-7: 601\n",
      "2020-7 to 2020-8: 646\n",
      "2020-8 to 2020-9: 720\n",
      "2020-9 to 2020-10: 696\n",
      "2020-10 to 2020-11: 720\n",
      "2020-11 to 2020-12: 673\n",
      "2020-12 to 2021-1: 658\n"
     ]
    }
   ],
   "source": [
    "for year in range(2016, 2021):\n",
    "    for month in range(1, 13):\n",
    "        data = get_data(22562, year, month)\n",
    "        if isinstance(data, requests.models.Response):\n",
    "            break\n",
    "        bahrain_df = pd.concat([bahrain_df, data])"
   ]
  },
  {
   "cell_type": "code",
   "execution_count": 24,
   "metadata": {},
   "outputs": [
    {
     "name": "stdout",
     "output_type": "stream",
     "text": [
      "2021-1 to 2021-2: 720\n",
      "2021-2 to 2021-3: 598\n",
      "2021-3 to 2021-4: 720\n",
      "2021-4 to 2021-5: 645\n",
      "2021-5 to 2021-6: 642\n",
      "2021-6 to 2021-7: 660\n",
      "2021-7 to 2021-8: 518\n",
      "2021-8 to 2021-9: 656\n",
      "2021-9 to 2021-10: 696\n",
      "2021-10 to 2021-11: 720\n",
      "2021-11 to 2021-12: 696\n",
      "2021-12 to 2022-1: 720\n",
      "2022-1 to 2022-2: 720\n",
      "2022-2 to 2022-3: 648\n",
      "2022-3 to 2022-4: 690\n",
      "2022-4 to 2022-5: 696\n",
      "2022-5 to 2022-6: 720\n",
      "2022-6 to 2022-7: 696\n",
      "2022-7 to 2022-8: 720\n",
      "2022-8 to 2022-9: 720\n",
      "2022-9 to 2022-10: 696\n",
      "2022-10 to 2022-11: 720\n"
     ]
    },
    {
     "name": "stderr",
     "output_type": "stream",
     "text": [
      "/var/folders/yg/c525c7x92dzdbplgm0_j_39r0000gn/T/ipykernel_52951/998720952.py:6: FutureWarning: The behavior of DataFrame concatenation with empty or all-NA entries is deprecated. In a future version, this will no longer exclude empty or all-NA columns when determining the result dtypes. To retain the old behavior, exclude the relevant entries before the concat operation.\n",
      "  bahrain_df = pd.concat([bahrain_df, data])\n"
     ]
    },
    {
     "name": "stdout",
     "output_type": "stream",
     "text": [
      "2022-11 to 2022-12: 696\n"
     ]
    },
    {
     "name": "stderr",
     "output_type": "stream",
     "text": [
      "/var/folders/yg/c525c7x92dzdbplgm0_j_39r0000gn/T/ipykernel_52951/998720952.py:6: FutureWarning: The behavior of DataFrame concatenation with empty or all-NA entries is deprecated. In a future version, this will no longer exclude empty or all-NA columns when determining the result dtypes. To retain the old behavior, exclude the relevant entries before the concat operation.\n",
      "  bahrain_df = pd.concat([bahrain_df, data])\n"
     ]
    },
    {
     "name": "stdout",
     "output_type": "stream",
     "text": [
      "2022-12 to 2023-1: 720\n"
     ]
    },
    {
     "name": "stderr",
     "output_type": "stream",
     "text": [
      "/var/folders/yg/c525c7x92dzdbplgm0_j_39r0000gn/T/ipykernel_52951/998720952.py:6: FutureWarning: The behavior of DataFrame concatenation with empty or all-NA entries is deprecated. In a future version, this will no longer exclude empty or all-NA columns when determining the result dtypes. To retain the old behavior, exclude the relevant entries before the concat operation.\n",
      "  bahrain_df = pd.concat([bahrain_df, data])\n"
     ]
    },
    {
     "name": "stdout",
     "output_type": "stream",
     "text": [
      "2023-1 to 2023-2: 618\n"
     ]
    },
    {
     "name": "stderr",
     "output_type": "stream",
     "text": [
      "/var/folders/yg/c525c7x92dzdbplgm0_j_39r0000gn/T/ipykernel_52951/998720952.py:6: FutureWarning: The behavior of DataFrame concatenation with empty or all-NA entries is deprecated. In a future version, this will no longer exclude empty or all-NA columns when determining the result dtypes. To retain the old behavior, exclude the relevant entries before the concat operation.\n",
      "  bahrain_df = pd.concat([bahrain_df, data])\n"
     ]
    },
    {
     "name": "stdout",
     "output_type": "stream",
     "text": [
      "2023-2 to 2023-3: 76\n"
     ]
    },
    {
     "name": "stderr",
     "output_type": "stream",
     "text": [
      "/var/folders/yg/c525c7x92dzdbplgm0_j_39r0000gn/T/ipykernel_52951/998720952.py:6: FutureWarning: The behavior of DataFrame concatenation with empty or all-NA entries is deprecated. In a future version, this will no longer exclude empty or all-NA columns when determining the result dtypes. To retain the old behavior, exclude the relevant entries before the concat operation.\n",
      "  bahrain_df = pd.concat([bahrain_df, data])\n"
     ]
    },
    {
     "name": "stdout",
     "output_type": "stream",
     "text": [
      "2023-3 to 2023-4: 276\n"
     ]
    },
    {
     "name": "stderr",
     "output_type": "stream",
     "text": [
      "/var/folders/yg/c525c7x92dzdbplgm0_j_39r0000gn/T/ipykernel_52951/998720952.py:6: FutureWarning: The behavior of DataFrame concatenation with empty or all-NA entries is deprecated. In a future version, this will no longer exclude empty or all-NA columns when determining the result dtypes. To retain the old behavior, exclude the relevant entries before the concat operation.\n",
      "  bahrain_df = pd.concat([bahrain_df, data])\n"
     ]
    },
    {
     "name": "stdout",
     "output_type": "stream",
     "text": [
      "2023-4 to 2023-5: 665\n",
      "2023-5 to 2023-6: 738\n",
      "2023-6 to 2023-7: 720\n",
      "2023-7 to 2023-8: 702\n",
      "2023-8 to 2023-9: 744\n",
      "2023-9 to 2023-10: 720\n",
      "2023-10 to 2023-11: 744\n",
      "2023-11 to 2023-12: 720\n",
      "2023-12 to 2024-1: 744\n",
      "2024-1 to 2024-2: 744\n",
      "2024-2 to 2024-3: 678\n",
      "2024-3 to 2024-4: 739\n",
      "2024-4 to 2024-5: 720\n",
      "2024-5 to 2024-6: 744\n",
      "2024-6 to 2024-7: 720\n",
      "2024-7 to 2024-8: 744\n",
      "2024-8 to 2024-9: 744\n",
      "2024-9 to 2024-10: 720\n",
      "2024-10 to 2024-11: 23\n",
      "2024-11 to 2024-12: 0\n",
      "2024-12 to 2025-1: 0\n"
     ]
    }
   ],
   "source": [
    "for year in range(2021, 2025):\n",
    "    for month in range(1, 13):\n",
    "        data = get_data(22562, year, month)\n",
    "        if isinstance(data, requests.models.Response):\n",
    "            break\n",
    "        bahrain_df = pd.concat([bahrain_df, data])"
   ]
  },
  {
   "cell_type": "code",
   "execution_count": 25,
   "metadata": {},
   "outputs": [
    {
     "data": {
      "text/html": [
       "<div>\n",
       "<style scoped>\n",
       "    .dataframe tbody tr th:only-of-type {\n",
       "        vertical-align: middle;\n",
       "    }\n",
       "\n",
       "    .dataframe tbody tr th {\n",
       "        vertical-align: top;\n",
       "    }\n",
       "\n",
       "    .dataframe thead th {\n",
       "        text-align: right;\n",
       "    }\n",
       "</style>\n",
       "<table border=\"1\" class=\"dataframe\">\n",
       "  <thead>\n",
       "    <tr style=\"text-align: right;\">\n",
       "      <th></th>\n",
       "      <th>value</th>\n",
       "      <th>utc</th>\n",
       "      <th>local</th>\n",
       "      <th>parameter</th>\n",
       "      <th>units</th>\n",
       "    </tr>\n",
       "  </thead>\n",
       "  <tbody>\n",
       "    <tr>\n",
       "      <th>0</th>\n",
       "      <td>42.0</td>\n",
       "      <td>2016-12-01T22:00:00Z</td>\n",
       "      <td>2016-12-02T01:00:00+03:00</td>\n",
       "      <td>pm25</td>\n",
       "      <td>µg/m³</td>\n",
       "    </tr>\n",
       "    <tr>\n",
       "      <th>1</th>\n",
       "      <td>42.0</td>\n",
       "      <td>2016-12-01T23:00:00Z</td>\n",
       "      <td>2016-12-02T02:00:00+03:00</td>\n",
       "      <td>pm25</td>\n",
       "      <td>µg/m³</td>\n",
       "    </tr>\n",
       "    <tr>\n",
       "      <th>2</th>\n",
       "      <td>42.0</td>\n",
       "      <td>2016-12-02T00:00:00Z</td>\n",
       "      <td>2016-12-02T03:00:00+03:00</td>\n",
       "      <td>pm25</td>\n",
       "      <td>µg/m³</td>\n",
       "    </tr>\n",
       "    <tr>\n",
       "      <th>3</th>\n",
       "      <td>42.0</td>\n",
       "      <td>2016-12-02T01:00:00Z</td>\n",
       "      <td>2016-12-02T04:00:00+03:00</td>\n",
       "      <td>pm25</td>\n",
       "      <td>µg/m³</td>\n",
       "    </tr>\n",
       "    <tr>\n",
       "      <th>4</th>\n",
       "      <td>41.0</td>\n",
       "      <td>2016-12-02T02:00:00Z</td>\n",
       "      <td>2016-12-02T05:00:00+03:00</td>\n",
       "      <td>pm25</td>\n",
       "      <td>µg/m³</td>\n",
       "    </tr>\n",
       "  </tbody>\n",
       "</table>\n",
       "</div>"
      ],
      "text/plain": [
       "   value                   utc                      local parameter  units\n",
       "0   42.0  2016-12-01T22:00:00Z  2016-12-02T01:00:00+03:00      pm25  µg/m³\n",
       "1   42.0  2016-12-01T23:00:00Z  2016-12-02T02:00:00+03:00      pm25  µg/m³\n",
       "2   42.0  2016-12-02T00:00:00Z  2016-12-02T03:00:00+03:00      pm25  µg/m³\n",
       "3   42.0  2016-12-02T01:00:00Z  2016-12-02T04:00:00+03:00      pm25  µg/m³\n",
       "4   41.0  2016-12-02T02:00:00Z  2016-12-02T05:00:00+03:00      pm25  µg/m³"
      ]
     },
     "execution_count": 25,
     "metadata": {},
     "output_type": "execute_result"
    }
   ],
   "source": [
    "bahrain_df.head()"
   ]
  },
  {
   "cell_type": "code",
   "execution_count": 26,
   "metadata": {},
   "outputs": [
    {
     "data": {
      "text/plain": [
       "(61747, 5)"
      ]
     },
     "execution_count": 26,
     "metadata": {},
     "output_type": "execute_result"
    }
   ],
   "source": [
    "bahrain_df.shape"
   ]
  },
  {
   "cell_type": "code",
   "execution_count": 27,
   "metadata": {},
   "outputs": [],
   "source": [
    "bahrain_df.to_csv(data_dir + 'openaq_bahrain_7479.csv', index=False)"
   ]
  },
  {
   "cell_type": "markdown",
   "metadata": {},
   "source": [
    "# Kuwait - 8103"
   ]
  },
  {
   "cell_type": "code",
   "execution_count": 16,
   "metadata": {},
   "outputs": [
    {
     "data": {
      "text/plain": [
       "[23491]"
      ]
     },
     "execution_count": 16,
     "metadata": {},
     "output_type": "execute_result"
    }
   ],
   "source": [
    "kuwait_sensors_ids = get_sensors_ids(8103)\n",
    "kuwait_sensors_ids"
   ]
  },
  {
   "cell_type": "code",
   "execution_count": 18,
   "metadata": {},
   "outputs": [
    {
     "data": {
      "text/plain": [
       "[23491]"
      ]
     },
     "execution_count": 18,
     "metadata": {},
     "output_type": "execute_result"
    }
   ],
   "source": [
    "kuwait_sensors_ids = validate_sensors_ids(kuwait_sensors_ids)\n",
    "kuwait_sensors_ids"
   ]
  },
  {
   "cell_type": "code",
   "execution_count": 19,
   "metadata": {},
   "outputs": [
    {
     "data": {
      "text/html": [
       "<div>\n",
       "<style scoped>\n",
       "    .dataframe tbody tr th:only-of-type {\n",
       "        vertical-align: middle;\n",
       "    }\n",
       "\n",
       "    .dataframe tbody tr th {\n",
       "        vertical-align: top;\n",
       "    }\n",
       "\n",
       "    .dataframe thead th {\n",
       "        text-align: right;\n",
       "    }\n",
       "</style>\n",
       "<table border=\"1\" class=\"dataframe\">\n",
       "  <thead>\n",
       "    <tr style=\"text-align: right;\">\n",
       "      <th></th>\n",
       "      <th>value</th>\n",
       "      <th>utc</th>\n",
       "      <th>local</th>\n",
       "    </tr>\n",
       "  </thead>\n",
       "  <tbody>\n",
       "  </tbody>\n",
       "</table>\n",
       "</div>"
      ],
      "text/plain": [
       "Empty DataFrame\n",
       "Columns: [value, utc, local]\n",
       "Index: []"
      ]
     },
     "execution_count": 19,
     "metadata": {},
     "output_type": "execute_result"
    }
   ],
   "source": [
    "kuwait_df = pd.DataFrame(columns=['value', 'utc', 'local', 'parameter', 'units'])\n",
    "kuwait_df"
   ]
  },
  {
   "cell_type": "code",
   "execution_count": 20,
   "metadata": {},
   "outputs": [
    {
     "name": "stdout",
     "output_type": "stream",
     "text": [
      "2017-1 to 2017-2: 0\n",
      "2017-2 to 2017-3: 241\n"
     ]
    },
    {
     "name": "stderr",
     "output_type": "stream",
     "text": [
      "/var/folders/yg/c525c7x92dzdbplgm0_j_39r0000gn/T/ipykernel_52765/3313822323.py:7: FutureWarning: The behavior of DataFrame concatenation with empty or all-NA entries is deprecated. In a future version, this will no longer exclude empty or all-NA columns when determining the result dtypes. To retain the old behavior, exclude the relevant entries before the concat operation.\n",
      "  kuwait_df = pd.concat([kuwait_df, data])\n"
     ]
    },
    {
     "name": "stdout",
     "output_type": "stream",
     "text": [
      "2017-3 to 2017-4: 714\n",
      "2017-4 to 2017-5: 696\n",
      "2017-5 to 2017-6: 720\n",
      "2017-6 to 2017-7: 696\n",
      "2017-7 to 2017-8: 480\n",
      "2017-8 to 2017-9: 441\n",
      "2017-9 to 2017-10: 582\n",
      "2017-10 to 2017-11: 645\n",
      "2017-11 to 2017-12: 554\n",
      "2017-12 to 2018-1: 210\n",
      "2018-1 to 2018-2: 599\n",
      "2018-2 to 2018-3: 430\n",
      "2018-3 to 2018-4: 468\n",
      "2018-4 to 2018-5: 578\n",
      "2018-5 to 2018-6: 550\n",
      "2018-6 to 2018-7: 625\n",
      "2018-7 to 2018-8: 692\n",
      "2018-8 to 2018-9: 623\n",
      "2018-9 to 2018-10: 659\n",
      "2018-10 to 2018-11: 648\n",
      "2018-11 to 2018-12: 694\n",
      "2018-12 to 2019-1: 667\n",
      "2019-1 to 2019-2: 719\n",
      "2019-2 to 2019-3: 622\n",
      "2019-3 to 2019-4: 715\n",
      "2019-4 to 2019-5: 677\n",
      "2019-5 to 2019-6: 706\n",
      "2019-6 to 2019-7: 690\n",
      "2019-7 to 2019-8: 717\n",
      "2019-8 to 2019-9: 720\n",
      "2019-9 to 2019-10: 696\n",
      "2019-10 to 2019-11: 694\n",
      "2019-11 to 2019-12: 696\n",
      "2019-12 to 2020-1: 719\n",
      "2020-1 to 2020-2: 720\n",
      "2020-2 to 2020-3: 672\n",
      "2020-3 to 2020-4: 710\n",
      "2020-4 to 2020-5: 672\n",
      "2020-5 to 2020-6: 647\n",
      "2020-6 to 2020-7: 610\n",
      "2020-7 to 2020-8: 676\n",
      "2020-8 to 2020-9: 646\n",
      "2020-9 to 2020-10: 660\n",
      "2020-10 to 2020-11: 707\n",
      "2020-11 to 2020-12: 686\n",
      "2020-12 to 2021-1: 641\n",
      "2021-1 to 2021-2: 720\n",
      "2021-2 to 2021-3: 577\n",
      "2021-3 to 2021-4: 659\n",
      "2021-4 to 2021-5: 562\n",
      "2021-5 to 2021-6: 405\n",
      "2021-6 to 2021-7: 403\n",
      "2021-7 to 2021-8: 335\n",
      "2021-8 to 2021-9: 616\n",
      "2021-9 to 2021-10: 696\n",
      "2021-10 to 2021-11: 720\n",
      "2021-11 to 2021-12: 696\n",
      "2021-12 to 2022-1: 720\n",
      "2022-1 to 2022-2: 720\n",
      "2022-2 to 2022-3: 648\n",
      "2022-3 to 2022-4: 688\n",
      "2022-4 to 2022-5: 696\n",
      "2022-5 to 2022-6: 720\n",
      "2022-6 to 2022-7: 696\n",
      "2022-7 to 2022-8: 720\n",
      "2022-8 to 2022-9: 720\n",
      "2022-9 to 2022-10: 696\n",
      "2022-10 to 2022-11: 720\n",
      "2022-11 to 2022-12: 696\n",
      "2022-12 to 2023-1: 720\n",
      "2023-1 to 2023-2: 618\n",
      "2023-2 to 2023-3: 75\n",
      "2023-3 to 2023-4: 277\n",
      "2023-4 to 2023-5: 665\n",
      "2023-5 to 2023-6: 744\n",
      "2023-6 to 2023-7: 720\n",
      "2023-7 to 2023-8: 722\n",
      "2023-8 to 2023-9: 743\n",
      "2023-9 to 2023-10: 720\n",
      "2023-10 to 2023-11: 741\n",
      "2023-11 to 2023-12: 715\n",
      "2023-12 to 2024-1: 590\n",
      "2024-1 to 2024-2: 729\n",
      "2024-2 to 2024-3: 587\n",
      "2024-3 to 2024-4: 505\n",
      "2024-4 to 2024-5: 720\n",
      "2024-5 to 2024-6: 744\n",
      "2024-6 to 2024-7: 720\n",
      "2024-7 to 2024-8: 744\n",
      "2024-8 to 2024-9: 744\n",
      "2024-9 to 2024-10: 720\n",
      "2024-10 to 2024-11: 23\n"
     ]
    }
   ],
   "source": [
    "for year in range(2017, 2025):\n",
    "    for month in range(1, 13):\n",
    "        data = get_data(23491, year, month)\n",
    "        if isinstance(data, requests.models.Response):\n",
    "            break\n",
    "        kuwait_df = pd.concat([kuwait_df, data])"
   ]
  },
  {
   "cell_type": "code",
   "execution_count": 22,
   "metadata": {},
   "outputs": [
    {
     "ename": "NameError",
     "evalue": "name 'kuwait_df' is not defined",
     "output_type": "error",
     "traceback": [
      "\u001b[0;31m---------------------------------------------------------------------------\u001b[0m",
      "\u001b[0;31mNameError\u001b[0m                                 Traceback (most recent call last)",
      "Cell \u001b[0;32mIn[22], line 1\u001b[0m\n\u001b[0;32m----> 1\u001b[0m \u001b[43mkuwait_df\u001b[49m\u001b[38;5;241m.\u001b[39mshape\n",
      "\u001b[0;31mNameError\u001b[0m: name 'kuwait_df' is not defined"
     ]
    }
   ],
   "source": [
    "kuwait_df.shape"
   ]
  },
  {
   "cell_type": "code",
   "execution_count": 26,
   "metadata": {},
   "outputs": [],
   "source": [
    "kuwait_df.to_csv(data_dir + 'openaq_kuwait_8103.csv', index=False)"
   ]
  },
  {
   "cell_type": "markdown",
   "metadata": {},
   "source": [
    "# Baghdad AirNow - 8839"
   ]
  },
  {
   "cell_type": "code",
   "execution_count": 28,
   "metadata": {},
   "outputs": [
    {
     "data": {
      "text/plain": [
       "[25769]"
      ]
     },
     "execution_count": 28,
     "metadata": {},
     "output_type": "execute_result"
    }
   ],
   "source": [
    "baghdad_airnow_sensors_ids = get_sensors_ids(8839)\n",
    "baghdad_airnow_sensors_ids"
   ]
  },
  {
   "cell_type": "code",
   "execution_count": 29,
   "metadata": {},
   "outputs": [
    {
     "data": {
      "text/plain": [
       "[25769]"
      ]
     },
     "execution_count": 29,
     "metadata": {},
     "output_type": "execute_result"
    }
   ],
   "source": [
    "baghdad_airnow_sensors_ids = validate_sensors_ids(baghdad_airnow_sensors_ids)\n",
    "baghdad_airnow_sensors_ids"
   ]
  },
  {
   "cell_type": "code",
   "execution_count": 32,
   "metadata": {},
   "outputs": [
    {
     "data": {
      "text/html": [
       "<div>\n",
       "<style scoped>\n",
       "    .dataframe tbody tr th:only-of-type {\n",
       "        vertical-align: middle;\n",
       "    }\n",
       "\n",
       "    .dataframe tbody tr th {\n",
       "        vertical-align: top;\n",
       "    }\n",
       "\n",
       "    .dataframe thead th {\n",
       "        text-align: right;\n",
       "    }\n",
       "</style>\n",
       "<table border=\"1\" class=\"dataframe\">\n",
       "  <thead>\n",
       "    <tr style=\"text-align: right;\">\n",
       "      <th></th>\n",
       "      <th>value</th>\n",
       "      <th>utc</th>\n",
       "      <th>local</th>\n",
       "      <th>parameter</th>\n",
       "      <th>units</th>\n",
       "    </tr>\n",
       "  </thead>\n",
       "  <tbody>\n",
       "  </tbody>\n",
       "</table>\n",
       "</div>"
      ],
      "text/plain": [
       "Empty DataFrame\n",
       "Columns: [value, utc, local, parameter, units]\n",
       "Index: []"
      ]
     },
     "execution_count": 32,
     "metadata": {},
     "output_type": "execute_result"
    }
   ],
   "source": [
    "baghdad_airnow_df = pd.DataFrame(columns=['value', 'utc', 'local', 'parameter', 'units'])\n",
    "baghdad_airnow_df"
   ]
  },
  {
   "cell_type": "code",
   "execution_count": 33,
   "metadata": {},
   "outputs": [
    {
     "name": "stdout",
     "output_type": "stream",
     "text": [
      "2019-1 to 2019-2: 0\n",
      "2019-2 to 2019-3: 0\n",
      "2019-3 to 2019-4: 0\n",
      "2019-4 to 2019-5: 0\n",
      "2019-5 to 2019-6: 0\n",
      "2019-6 to 2019-7: 0\n",
      "2019-7 to 2019-8: 0\n",
      "2019-8 to 2019-9: 0\n",
      "2019-9 to 2019-10: 0\n",
      "2019-10 to 2019-11: 61\n"
     ]
    },
    {
     "name": "stderr",
     "output_type": "stream",
     "text": [
      "/var/folders/yg/c525c7x92dzdbplgm0_j_39r0000gn/T/ipykernel_52951/636131796.py:6: FutureWarning: The behavior of DataFrame concatenation with empty or all-NA entries is deprecated. In a future version, this will no longer exclude empty or all-NA columns when determining the result dtypes. To retain the old behavior, exclude the relevant entries before the concat operation.\n",
      "  baghdad_airnow_df = pd.concat([baghdad_airnow_df, data])\n"
     ]
    },
    {
     "name": "stdout",
     "output_type": "stream",
     "text": [
      "2019-11 to 2019-12: 505\n",
      "2019-12 to 2020-1: 587\n",
      "2020-1 to 2020-2: 427\n",
      "2020-2 to 2020-3: 237\n",
      "2020-3 to 2020-4: 597\n",
      "2020-4 to 2020-5: 606\n",
      "2020-5 to 2020-6: 140\n",
      "2020-6 to 2020-7: 590\n",
      "2020-7 to 2020-8: 553\n",
      "2020-8 to 2020-9: 0\n",
      "2020-9 to 2020-10: 92\n",
      "2020-10 to 2020-11: 572\n",
      "2020-11 to 2020-12: 570\n",
      "2020-12 to 2021-1: 456\n",
      "2021-1 to 2021-2: 593\n",
      "2021-2 to 2021-3: 432\n",
      "2021-3 to 2021-4: 434\n",
      "2021-4 to 2021-5: 355\n",
      "2021-5 to 2021-6: 283\n",
      "2021-6 to 2021-7: 311\n",
      "2021-7 to 2021-8: 271\n",
      "2021-8 to 2021-9: 442\n",
      "2021-9 to 2021-10: 371\n",
      "2021-10 to 2021-11: 592\n",
      "2021-11 to 2021-12: 565\n",
      "2021-12 to 2022-1: 532\n",
      "2022-1 to 2022-2: 412\n",
      "2022-2 to 2022-3: 521\n",
      "2022-3 to 2022-4: 476\n",
      "2022-4 to 2022-5: 481\n",
      "2022-5 to 2022-6: 531\n",
      "2022-6 to 2022-7: 642\n",
      "2022-7 to 2022-8: 688\n",
      "2022-8 to 2022-9: 637\n",
      "2022-9 to 2022-10: 689\n",
      "2022-10 to 2022-11: 624\n",
      "2022-11 to 2022-12: 696\n",
      "2022-12 to 2023-1: 714\n",
      "2023-1 to 2023-2: 569\n",
      "2023-2 to 2023-3: 48\n",
      "2023-3 to 2023-4: 275\n",
      "2023-4 to 2023-5: 658\n",
      "2023-5 to 2023-6: 742\n",
      "2023-6 to 2023-7: 189\n",
      "2023-7 to 2023-8: 0\n",
      "2023-8 to 2023-9: 0\n",
      "2023-9 to 2023-10: 0\n",
      "2023-10 to 2023-11: 0\n",
      "2023-11 to 2023-12: 0\n",
      "2023-12 to 2024-1: 0\n"
     ]
    }
   ],
   "source": [
    "for year in range(2019, 2025):\n",
    "    for month in range(1, 13):\n",
    "        data = get_data(25769, year, month)\n",
    "        if isinstance(data, requests.models.Response):\n",
    "            break\n",
    "        baghdad_airnow_df = pd.concat([baghdad_airnow_df, data])"
   ]
  },
  {
   "cell_type": "code",
   "execution_count": 37,
   "metadata": {},
   "outputs": [
    {
     "name": "stdout",
     "output_type": "stream",
     "text": [
      "2024-1 to 2024-2: 0\n",
      "2024-2 to 2024-3: 0\n",
      "2024-3 to 2024-4: 606\n",
      "2024-4 to 2024-5: 706\n",
      "2024-5 to 2024-6: 739\n",
      "2024-6 to 2024-7: 654\n",
      "2024-7 to 2024-8: 520\n",
      "2024-8 to 2024-9: 744\n",
      "2024-9 to 2024-10: 587\n",
      "2024-10 to 2024-11: 23\n",
      "2024-11 to 2024-12: 0\n",
      "2024-12 to 2025-1: 0\n"
     ]
    }
   ],
   "source": [
    "for year in range(2024, 2025):\n",
    "    for month in range(1, 13):\n",
    "        data = get_data(25769, year, month)\n",
    "        if isinstance(data, requests.models.Response):\n",
    "            break\n",
    "        baghdad_airnow_df = pd.concat([baghdad_airnow_df, data])"
   ]
  },
  {
   "cell_type": "code",
   "execution_count": 38,
   "metadata": {},
   "outputs": [
    {
     "data": {
      "text/html": [
       "<div>\n",
       "<style scoped>\n",
       "    .dataframe tbody tr th:only-of-type {\n",
       "        vertical-align: middle;\n",
       "    }\n",
       "\n",
       "    .dataframe tbody tr th {\n",
       "        vertical-align: top;\n",
       "    }\n",
       "\n",
       "    .dataframe thead th {\n",
       "        text-align: right;\n",
       "    }\n",
       "</style>\n",
       "<table border=\"1\" class=\"dataframe\">\n",
       "  <thead>\n",
       "    <tr style=\"text-align: right;\">\n",
       "      <th></th>\n",
       "      <th>value</th>\n",
       "      <th>utc</th>\n",
       "      <th>local</th>\n",
       "      <th>parameter</th>\n",
       "      <th>units</th>\n",
       "    </tr>\n",
       "  </thead>\n",
       "  <tbody>\n",
       "    <tr>\n",
       "      <th>0</th>\n",
       "      <td>31.0</td>\n",
       "      <td>2019-10-28T19:00:00Z</td>\n",
       "      <td>2019-10-28T22:00:00+03:00</td>\n",
       "      <td>pm25</td>\n",
       "      <td>µg/m³</td>\n",
       "    </tr>\n",
       "    <tr>\n",
       "      <th>1</th>\n",
       "      <td>44.0</td>\n",
       "      <td>2019-10-28T21:00:00Z</td>\n",
       "      <td>2019-10-29T00:00:00+03:00</td>\n",
       "      <td>pm25</td>\n",
       "      <td>µg/m³</td>\n",
       "    </tr>\n",
       "    <tr>\n",
       "      <th>2</th>\n",
       "      <td>27.0</td>\n",
       "      <td>2019-10-28T22:00:00Z</td>\n",
       "      <td>2019-10-29T01:00:00+03:00</td>\n",
       "      <td>pm25</td>\n",
       "      <td>µg/m³</td>\n",
       "    </tr>\n",
       "    <tr>\n",
       "      <th>3</th>\n",
       "      <td>20.0</td>\n",
       "      <td>2019-10-29T00:00:00Z</td>\n",
       "      <td>2019-10-29T03:00:00+03:00</td>\n",
       "      <td>pm25</td>\n",
       "      <td>µg/m³</td>\n",
       "    </tr>\n",
       "    <tr>\n",
       "      <th>4</th>\n",
       "      <td>15.0</td>\n",
       "      <td>2019-10-29T01:00:00Z</td>\n",
       "      <td>2019-10-29T04:00:00+03:00</td>\n",
       "      <td>pm25</td>\n",
       "      <td>µg/m³</td>\n",
       "    </tr>\n",
       "  </tbody>\n",
       "</table>\n",
       "</div>"
      ],
      "text/plain": [
       "   value                   utc                      local parameter  units\n",
       "0   31.0  2019-10-28T19:00:00Z  2019-10-28T22:00:00+03:00      pm25  µg/m³\n",
       "1   44.0  2019-10-28T21:00:00Z  2019-10-29T00:00:00+03:00      pm25  µg/m³\n",
       "2   27.0  2019-10-28T22:00:00Z  2019-10-29T01:00:00+03:00      pm25  µg/m³\n",
       "3   20.0  2019-10-29T00:00:00Z  2019-10-29T03:00:00+03:00      pm25  µg/m³\n",
       "4   15.0  2019-10-29T01:00:00Z  2019-10-29T04:00:00+03:00      pm25  µg/m³"
      ]
     },
     "execution_count": 38,
     "metadata": {},
     "output_type": "execute_result"
    }
   ],
   "source": [
    "baghdad_airnow_df.head()"
   ]
  },
  {
   "cell_type": "code",
   "execution_count": 39,
   "metadata": {},
   "outputs": [
    {
     "data": {
      "text/plain": [
       "(25345, 5)"
      ]
     },
     "execution_count": 39,
     "metadata": {},
     "output_type": "execute_result"
    }
   ],
   "source": [
    "baghdad_airnow_df.shape"
   ]
  },
  {
   "cell_type": "code",
   "execution_count": 40,
   "metadata": {},
   "outputs": [],
   "source": [
    "baghdad_airnow_df.to_csv(data_dir + 'openaq_baghdad_airnow_8839.csv', index=False)"
   ]
  },
  {
   "cell_type": "markdown",
   "metadata": {},
   "source": [
    "# Baghdad US Embassy - 8887"
   ]
  },
  {
   "cell_type": "code",
   "execution_count": 42,
   "metadata": {},
   "outputs": [
    {
     "data": {
      "text/plain": [
       "[25932]"
      ]
     },
     "execution_count": 42,
     "metadata": {},
     "output_type": "execute_result"
    }
   ],
   "source": [
    "baghdad_embassy_sensors_ids = get_sensors_ids(8887)\n",
    "baghdad_embassy_sensors_ids"
   ]
  },
  {
   "cell_type": "code",
   "execution_count": 43,
   "metadata": {},
   "outputs": [
    {
     "data": {
      "text/plain": [
       "[25932]"
      ]
     },
     "execution_count": 43,
     "metadata": {},
     "output_type": "execute_result"
    }
   ],
   "source": [
    "baghdad_embassy_sensors_ids = validate_sensors_ids(baghdad_embassy_sensors_ids)\n",
    "baghdad_embassy_sensors_ids"
   ]
  },
  {
   "cell_type": "code",
   "execution_count": 44,
   "metadata": {},
   "outputs": [
    {
     "data": {
      "text/html": [
       "<div>\n",
       "<style scoped>\n",
       "    .dataframe tbody tr th:only-of-type {\n",
       "        vertical-align: middle;\n",
       "    }\n",
       "\n",
       "    .dataframe tbody tr th {\n",
       "        vertical-align: top;\n",
       "    }\n",
       "\n",
       "    .dataframe thead th {\n",
       "        text-align: right;\n",
       "    }\n",
       "</style>\n",
       "<table border=\"1\" class=\"dataframe\">\n",
       "  <thead>\n",
       "    <tr style=\"text-align: right;\">\n",
       "      <th></th>\n",
       "      <th>value</th>\n",
       "      <th>utc</th>\n",
       "      <th>local</th>\n",
       "      <th>parameter</th>\n",
       "      <th>units</th>\n",
       "    </tr>\n",
       "  </thead>\n",
       "  <tbody>\n",
       "  </tbody>\n",
       "</table>\n",
       "</div>"
      ],
      "text/plain": [
       "Empty DataFrame\n",
       "Columns: [value, utc, local, parameter, units]\n",
       "Index: []"
      ]
     },
     "execution_count": 44,
     "metadata": {},
     "output_type": "execute_result"
    }
   ],
   "source": [
    "baghdad_embassy_df = pd.DataFrame(columns=['value', 'utc', 'local', 'parameter', 'units'])\n",
    "baghdad_embassy_df"
   ]
  },
  {
   "cell_type": "code",
   "execution_count": 45,
   "metadata": {},
   "outputs": [
    {
     "name": "stdout",
     "output_type": "stream",
     "text": [
      "2019-1 to 2019-2: 0\n",
      "2019-2 to 2019-3: 0\n",
      "2019-3 to 2019-4: 485\n"
     ]
    },
    {
     "name": "stderr",
     "output_type": "stream",
     "text": [
      "/var/folders/yg/c525c7x92dzdbplgm0_j_39r0000gn/T/ipykernel_52951/3070106291.py:6: FutureWarning: The behavior of DataFrame concatenation with empty or all-NA entries is deprecated. In a future version, this will no longer exclude empty or all-NA columns when determining the result dtypes. To retain the old behavior, exclude the relevant entries before the concat operation.\n",
      "  baghdad_embassy_df = pd.concat([baghdad_embassy_df, data])\n"
     ]
    },
    {
     "name": "stdout",
     "output_type": "stream",
     "text": [
      "2019-4 to 2019-5: 674\n",
      "2019-5 to 2019-6: 714\n",
      "2019-6 to 2019-7: 688\n",
      "2019-7 to 2019-8: 713\n",
      "2019-8 to 2019-9: 720\n",
      "2019-9 to 2019-10: 696\n",
      "2019-10 to 2019-11: 694\n",
      "2019-11 to 2019-12: 674\n",
      "2019-12 to 2020-1: 689\n",
      "2020-1 to 2020-2: 714\n",
      "2020-2 to 2020-3: 672\n",
      "2020-3 to 2020-4: 711\n",
      "2020-4 to 2020-5: 656\n",
      "2020-5 to 2020-6: 424\n",
      "2020-6 to 2020-7: 496\n",
      "2020-7 to 2020-8: 633\n",
      "2020-8 to 2020-9: 449\n"
     ]
    },
    {
     "name": "stderr",
     "output_type": "stream",
     "text": [
      "/var/folders/yg/c525c7x92dzdbplgm0_j_39r0000gn/T/ipykernel_52951/3070106291.py:6: FutureWarning: The behavior of DataFrame concatenation with empty or all-NA entries is deprecated. In a future version, this will no longer exclude empty or all-NA columns when determining the result dtypes. To retain the old behavior, exclude the relevant entries before the concat operation.\n",
      "  baghdad_embassy_df = pd.concat([baghdad_embassy_df, data])\n"
     ]
    },
    {
     "name": "stdout",
     "output_type": "stream",
     "text": [
      "2020-9 to 2020-10: 515\n",
      "2020-10 to 2020-11: 606\n",
      "2020-11 to 2020-12: 595\n",
      "2020-12 to 2021-1: 593\n",
      "2021-1 to 2021-2: 702\n",
      "2021-2 to 2021-3: 438\n",
      "2021-3 to 2021-4: 557\n",
      "2021-4 to 2021-5: 563\n",
      "2021-5 to 2021-6: 389\n",
      "2021-6 to 2021-7: 377\n",
      "2021-7 to 2021-8: 297\n",
      "2021-8 to 2021-9: 608\n",
      "2021-9 to 2021-10: 692\n",
      "2021-10 to 2021-11: 720\n",
      "2021-11 to 2021-12: 696\n",
      "2021-12 to 2022-1: 720\n",
      "2022-1 to 2022-2: 720\n",
      "2022-2 to 2022-3: 648\n",
      "2022-3 to 2022-4: 690\n",
      "2022-4 to 2022-5: 696\n",
      "2022-5 to 2022-6: 720\n",
      "2022-6 to 2022-7: 696\n",
      "2022-7 to 2022-8: 720\n",
      "2022-8 to 2022-9: 720\n",
      "2022-9 to 2022-10: 696\n",
      "2022-10 to 2022-11: 720\n",
      "2022-11 to 2022-12: 696\n",
      "2022-12 to 2023-1: 720\n",
      "2023-1 to 2023-2: 618\n",
      "2023-2 to 2023-3: 75\n",
      "2023-3 to 2023-4: 277\n",
      "2023-4 to 2023-5: 653\n",
      "2023-5 to 2023-6: 704\n",
      "2023-6 to 2023-7: 704\n",
      "2023-7 to 2023-8: 695\n"
     ]
    },
    {
     "name": "stderr",
     "output_type": "stream",
     "text": [
      "/var/folders/yg/c525c7x92dzdbplgm0_j_39r0000gn/T/ipykernel_52951/3070106291.py:6: FutureWarning: The behavior of DataFrame concatenation with empty or all-NA entries is deprecated. In a future version, this will no longer exclude empty or all-NA columns when determining the result dtypes. To retain the old behavior, exclude the relevant entries before the concat operation.\n",
      "  baghdad_embassy_df = pd.concat([baghdad_embassy_df, data])\n"
     ]
    },
    {
     "name": "stdout",
     "output_type": "stream",
     "text": [
      "2023-8 to 2023-9: 617\n"
     ]
    },
    {
     "name": "stderr",
     "output_type": "stream",
     "text": [
      "/var/folders/yg/c525c7x92dzdbplgm0_j_39r0000gn/T/ipykernel_52951/3070106291.py:6: FutureWarning: The behavior of DataFrame concatenation with empty or all-NA entries is deprecated. In a future version, this will no longer exclude empty or all-NA columns when determining the result dtypes. To retain the old behavior, exclude the relevant entries before the concat operation.\n",
      "  baghdad_embassy_df = pd.concat([baghdad_embassy_df, data])\n"
     ]
    },
    {
     "name": "stdout",
     "output_type": "stream",
     "text": [
      "2023-9 to 2023-10: 720\n"
     ]
    },
    {
     "name": "stderr",
     "output_type": "stream",
     "text": [
      "/var/folders/yg/c525c7x92dzdbplgm0_j_39r0000gn/T/ipykernel_52951/3070106291.py:6: FutureWarning: The behavior of DataFrame concatenation with empty or all-NA entries is deprecated. In a future version, this will no longer exclude empty or all-NA columns when determining the result dtypes. To retain the old behavior, exclude the relevant entries before the concat operation.\n",
      "  baghdad_embassy_df = pd.concat([baghdad_embassy_df, data])\n"
     ]
    },
    {
     "name": "stdout",
     "output_type": "stream",
     "text": [
      "2023-10 to 2023-11: 744\n",
      "2023-11 to 2023-12: 45\n"
     ]
    },
    {
     "name": "stderr",
     "output_type": "stream",
     "text": [
      "/var/folders/yg/c525c7x92dzdbplgm0_j_39r0000gn/T/ipykernel_52951/3070106291.py:6: FutureWarning: The behavior of DataFrame concatenation with empty or all-NA entries is deprecated. In a future version, this will no longer exclude empty or all-NA columns when determining the result dtypes. To retain the old behavior, exclude the relevant entries before the concat operation.\n",
      "  baghdad_embassy_df = pd.concat([baghdad_embassy_df, data])\n",
      "/var/folders/yg/c525c7x92dzdbplgm0_j_39r0000gn/T/ipykernel_52951/3070106291.py:6: FutureWarning: The behavior of DataFrame concatenation with empty or all-NA entries is deprecated. In a future version, this will no longer exclude empty or all-NA columns when determining the result dtypes. To retain the old behavior, exclude the relevant entries before the concat operation.\n",
      "  baghdad_embassy_df = pd.concat([baghdad_embassy_df, data])\n"
     ]
    },
    {
     "name": "stdout",
     "output_type": "stream",
     "text": [
      "2023-12 to 2024-1: 0\n"
     ]
    }
   ],
   "source": [
    "for year in range(2019, 2024):\n",
    "    for month in range(1, 13):\n",
    "        data = get_data(25932, year, month)\n",
    "        if isinstance(data, requests.models.Response):\n",
    "            break\n",
    "        baghdad_embassy_df = pd.concat([baghdad_embassy_df, data])"
   ]
  },
  {
   "cell_type": "code",
   "execution_count": 46,
   "metadata": {},
   "outputs": [
    {
     "name": "stdout",
     "output_type": "stream",
     "text": [
      "2024-1 to 2024-2: 0\n",
      "2024-2 to 2024-3: 0\n",
      "2024-3 to 2024-4: 313\n",
      "2024-4 to 2024-5: 720\n",
      "2024-5 to 2024-6: 744\n",
      "2024-6 to 2024-7: 720\n",
      "2024-7 to 2024-8: 744\n",
      "2024-8 to 2024-9: 744\n",
      "2024-9 to 2024-10: 720\n",
      "2024-10 to 2024-11: 23\n",
      "2024-11 to 2024-12: 0\n",
      "2024-12 to 2025-1: 0\n"
     ]
    }
   ],
   "source": [
    "for year in range(2024, 2025):\n",
    "    for month in range(1, 13):\n",
    "        data = get_data(25932, year, month)\n",
    "        if isinstance(data, requests.models.Response):\n",
    "            break\n",
    "        baghdad_embassy_df = pd.concat([baghdad_embassy_df, data])"
   ]
  },
  {
   "cell_type": "code",
   "execution_count": 47,
   "metadata": {},
   "outputs": [
    {
     "data": {
      "text/html": [
       "<div>\n",
       "<style scoped>\n",
       "    .dataframe tbody tr th:only-of-type {\n",
       "        vertical-align: middle;\n",
       "    }\n",
       "\n",
       "    .dataframe tbody tr th {\n",
       "        vertical-align: top;\n",
       "    }\n",
       "\n",
       "    .dataframe thead th {\n",
       "        text-align: right;\n",
       "    }\n",
       "</style>\n",
       "<table border=\"1\" class=\"dataframe\">\n",
       "  <thead>\n",
       "    <tr style=\"text-align: right;\">\n",
       "      <th></th>\n",
       "      <th>value</th>\n",
       "      <th>utc</th>\n",
       "      <th>local</th>\n",
       "      <th>parameter</th>\n",
       "      <th>units</th>\n",
       "    </tr>\n",
       "  </thead>\n",
       "  <tbody>\n",
       "    <tr>\n",
       "      <th>0</th>\n",
       "      <td>16.0</td>\n",
       "      <td>2019-03-10T16:00:00Z</td>\n",
       "      <td>2019-03-10T19:00:00+03:00</td>\n",
       "      <td>pm25</td>\n",
       "      <td>µg/m³</td>\n",
       "    </tr>\n",
       "    <tr>\n",
       "      <th>1</th>\n",
       "      <td>27.0</td>\n",
       "      <td>2019-03-10T17:00:00Z</td>\n",
       "      <td>2019-03-10T20:00:00+03:00</td>\n",
       "      <td>pm25</td>\n",
       "      <td>µg/m³</td>\n",
       "    </tr>\n",
       "    <tr>\n",
       "      <th>2</th>\n",
       "      <td>44.0</td>\n",
       "      <td>2019-03-10T18:00:00Z</td>\n",
       "      <td>2019-03-10T21:00:00+03:00</td>\n",
       "      <td>pm25</td>\n",
       "      <td>µg/m³</td>\n",
       "    </tr>\n",
       "    <tr>\n",
       "      <th>3</th>\n",
       "      <td>63.0</td>\n",
       "      <td>2019-03-10T19:00:00Z</td>\n",
       "      <td>2019-03-10T22:00:00+03:00</td>\n",
       "      <td>pm25</td>\n",
       "      <td>µg/m³</td>\n",
       "    </tr>\n",
       "    <tr>\n",
       "      <th>4</th>\n",
       "      <td>74.0</td>\n",
       "      <td>2019-03-10T20:00:00Z</td>\n",
       "      <td>2019-03-10T23:00:00+03:00</td>\n",
       "      <td>pm25</td>\n",
       "      <td>µg/m³</td>\n",
       "    </tr>\n",
       "  </tbody>\n",
       "</table>\n",
       "</div>"
      ],
      "text/plain": [
       "   value                   utc                      local parameter  units\n",
       "0   16.0  2019-03-10T16:00:00Z  2019-03-10T19:00:00+03:00      pm25  µg/m³\n",
       "1   27.0  2019-03-10T17:00:00Z  2019-03-10T20:00:00+03:00      pm25  µg/m³\n",
       "2   44.0  2019-03-10T18:00:00Z  2019-03-10T21:00:00+03:00      pm25  µg/m³\n",
       "3   63.0  2019-03-10T19:00:00Z  2019-03-10T22:00:00+03:00      pm25  µg/m³\n",
       "4   74.0  2019-03-10T20:00:00Z  2019-03-10T23:00:00+03:00      pm25  µg/m³"
      ]
     },
     "execution_count": 47,
     "metadata": {},
     "output_type": "execute_result"
    }
   ],
   "source": [
    "baghdad_embassy_df.head()"
   ]
  },
  {
   "cell_type": "code",
   "execution_count": 48,
   "metadata": {},
   "outputs": [
    {
     "data": {
      "text/plain": [
       "(39592, 5)"
      ]
     },
     "execution_count": 48,
     "metadata": {},
     "output_type": "execute_result"
    }
   ],
   "source": [
    "baghdad_embassy_df.shape"
   ]
  },
  {
   "cell_type": "code",
   "execution_count": 49,
   "metadata": {},
   "outputs": [],
   "source": [
    "baghdad_embassy_df.to_csv(data_dir + 'openaq_baghdad_embassy_8887.csv', index=False)"
   ]
  },
  {
   "cell_type": "markdown",
   "metadata": {},
   "source": [
    "# Turkmenistan - 8170"
   ]
  },
  {
   "cell_type": "code",
   "execution_count": 50,
   "metadata": {},
   "outputs": [
    {
     "data": {
      "text/plain": [
       "[23772]"
      ]
     },
     "execution_count": 50,
     "metadata": {},
     "output_type": "execute_result"
    }
   ],
   "source": [
    "turkmenistan_sensors_ids = get_sensors_ids(8170)\n",
    "turkmenistan_sensors_ids"
   ]
  },
  {
   "cell_type": "code",
   "execution_count": 51,
   "metadata": {},
   "outputs": [
    {
     "data": {
      "text/plain": [
       "[23772]"
      ]
     },
     "execution_count": 51,
     "metadata": {},
     "output_type": "execute_result"
    }
   ],
   "source": [
    "turkmenistan_sensors_ids = validate_sensors_ids(turkmenistan_sensors_ids)\n",
    "turkmenistan_sensors_ids"
   ]
  },
  {
   "cell_type": "code",
   "execution_count": 52,
   "metadata": {},
   "outputs": [
    {
     "data": {
      "text/html": [
       "<div>\n",
       "<style scoped>\n",
       "    .dataframe tbody tr th:only-of-type {\n",
       "        vertical-align: middle;\n",
       "    }\n",
       "\n",
       "    .dataframe tbody tr th {\n",
       "        vertical-align: top;\n",
       "    }\n",
       "\n",
       "    .dataframe thead th {\n",
       "        text-align: right;\n",
       "    }\n",
       "</style>\n",
       "<table border=\"1\" class=\"dataframe\">\n",
       "  <thead>\n",
       "    <tr style=\"text-align: right;\">\n",
       "      <th></th>\n",
       "      <th>value</th>\n",
       "      <th>utc</th>\n",
       "      <th>local</th>\n",
       "      <th>parameter</th>\n",
       "      <th>units</th>\n",
       "    </tr>\n",
       "  </thead>\n",
       "  <tbody>\n",
       "  </tbody>\n",
       "</table>\n",
       "</div>"
      ],
      "text/plain": [
       "Empty DataFrame\n",
       "Columns: [value, utc, local, parameter, units]\n",
       "Index: []"
      ]
     },
     "execution_count": 52,
     "metadata": {},
     "output_type": "execute_result"
    }
   ],
   "source": [
    "turkmenistan_df = pd.DataFrame(columns=['value', 'utc', 'local', 'parameter', 'units'])\n",
    "turkmenistan_df"
   ]
  },
  {
   "cell_type": "code",
   "execution_count": 53,
   "metadata": {},
   "outputs": [
    {
     "name": "stdout",
     "output_type": "stream",
     "text": [
      "2019-1 to 2019-2: 0\n",
      "2019-2 to 2019-3: 0\n",
      "2019-3 to 2019-4: 0\n",
      "2019-4 to 2019-5: 0\n",
      "2019-5 to 2019-6: 0\n",
      "2019-6 to 2019-7: 0\n",
      "2019-7 to 2019-8: 0\n",
      "2019-8 to 2019-9: 0\n",
      "2019-9 to 2019-10: 0\n",
      "2019-10 to 2019-11: 258\n"
     ]
    },
    {
     "name": "stderr",
     "output_type": "stream",
     "text": [
      "/var/folders/yg/c525c7x92dzdbplgm0_j_39r0000gn/T/ipykernel_52951/46295368.py:6: FutureWarning: The behavior of DataFrame concatenation with empty or all-NA entries is deprecated. In a future version, this will no longer exclude empty or all-NA columns when determining the result dtypes. To retain the old behavior, exclude the relevant entries before the concat operation.\n",
      "  turkmenistan_df = pd.concat([turkmenistan_df, data])\n"
     ]
    },
    {
     "name": "stdout",
     "output_type": "stream",
     "text": [
      "2019-11 to 2019-12: 691\n",
      "2019-12 to 2020-1: 710\n",
      "2020-1 to 2020-2: 720\n",
      "2020-2 to 2020-3: 667\n",
      "2020-3 to 2020-4: 709\n",
      "2020-4 to 2020-5: 664\n",
      "2020-5 to 2020-6: 564\n",
      "2020-6 to 2020-7: 579\n",
      "2020-7 to 2020-8: 618\n",
      "2020-8 to 2020-9: 657\n",
      "2020-9 to 2020-10: 676\n",
      "2020-10 to 2020-11: 693\n",
      "2020-11 to 2020-12: 653\n",
      "2020-12 to 2021-1: 641\n",
      "2021-1 to 2021-2: 720\n",
      "2021-2 to 2021-3: 577\n",
      "2021-3 to 2021-4: 693\n",
      "2021-4 to 2021-5: 599\n",
      "2021-5 to 2021-6: 625\n",
      "2021-6 to 2021-7: 648\n",
      "2021-7 to 2021-8: 515\n",
      "2021-8 to 2021-9: 636\n",
      "2021-9 to 2021-10: 696\n",
      "2021-10 to 2021-11: 720\n",
      "2021-11 to 2021-12: 696\n",
      "2021-12 to 2022-1: 720\n",
      "2022-1 to 2022-2: 720\n",
      "2022-2 to 2022-3: 648\n",
      "2022-3 to 2022-4: 688\n",
      "2022-4 to 2022-5: 696\n",
      "2022-5 to 2022-6: 720\n",
      "2022-6 to 2022-7: 696\n",
      "2022-7 to 2022-8: 720\n",
      "2022-8 to 2022-9: 720\n",
      "2022-9 to 2022-10: 696\n",
      "2022-10 to 2022-11: 720\n",
      "2022-11 to 2022-12: 696\n",
      "2022-12 to 2023-1: 720\n",
      "2023-1 to 2023-2: 618\n",
      "2023-2 to 2023-3: 77\n",
      "2023-3 to 2023-4: 275\n",
      "2023-4 to 2023-5: 653\n",
      "2023-5 to 2023-6: 671\n",
      "2023-6 to 2023-7: 704\n",
      "2023-7 to 2023-8: 671\n",
      "2023-8 to 2023-9: 617\n",
      "2023-9 to 2023-10: 720\n",
      "2023-10 to 2023-11: 522\n",
      "2023-11 to 2023-12: 42\n",
      "2023-12 to 2024-1: 0\n"
     ]
    }
   ],
   "source": [
    "for year in range(2019, 2024):\n",
    "    for month in range(1, 13):\n",
    "        data = get_data(23772, year, month)\n",
    "        if isinstance(data, requests.models.Response):\n",
    "            break\n",
    "        turkmenistan_df = pd.concat([turkmenistan_df, data])"
   ]
  },
  {
   "cell_type": "code",
   "execution_count": 56,
   "metadata": {},
   "outputs": [
    {
     "name": "stdout",
     "output_type": "stream",
     "text": [
      "2024-1 to 2024-2: 0\n",
      "2024-2 to 2024-3: 0\n",
      "2024-3 to 2024-4: 305\n",
      "2024-4 to 2024-5: 720\n",
      "2024-5 to 2024-6: 744\n",
      "2024-6 to 2024-7: 720\n",
      "2024-7 to 2024-8: 744\n",
      "2024-8 to 2024-9: 744\n",
      "2024-9 to 2024-10: 720\n",
      "2024-10 to 2024-11: 26\n",
      "2024-11 to 2024-12: 0\n",
      "2024-12 to 2025-1: 0\n"
     ]
    }
   ],
   "source": [
    "for year in range(2024, 2025):\n",
    "    for month in range(1, 13):\n",
    "        data = get_data(23772, year, month)\n",
    "        if isinstance(data, requests.models.Response):\n",
    "            break\n",
    "        turkmenistan_df = pd.concat([turkmenistan_df, data])"
   ]
  },
  {
   "cell_type": "code",
   "execution_count": 57,
   "metadata": {},
   "outputs": [
    {
     "data": {
      "text/html": [
       "<div>\n",
       "<style scoped>\n",
       "    .dataframe tbody tr th:only-of-type {\n",
       "        vertical-align: middle;\n",
       "    }\n",
       "\n",
       "    .dataframe tbody tr th {\n",
       "        vertical-align: top;\n",
       "    }\n",
       "\n",
       "    .dataframe thead th {\n",
       "        text-align: right;\n",
       "    }\n",
       "</style>\n",
       "<table border=\"1\" class=\"dataframe\">\n",
       "  <thead>\n",
       "    <tr style=\"text-align: right;\">\n",
       "      <th></th>\n",
       "      <th>value</th>\n",
       "      <th>utc</th>\n",
       "      <th>local</th>\n",
       "      <th>parameter</th>\n",
       "      <th>units</th>\n",
       "    </tr>\n",
       "  </thead>\n",
       "  <tbody>\n",
       "    <tr>\n",
       "      <th>0</th>\n",
       "      <td>14.0</td>\n",
       "      <td>2019-10-20T22:00:00Z</td>\n",
       "      <td>2019-10-21T03:00:00+05:00</td>\n",
       "      <td>pm25</td>\n",
       "      <td>µg/m³</td>\n",
       "    </tr>\n",
       "    <tr>\n",
       "      <th>1</th>\n",
       "      <td>10.0</td>\n",
       "      <td>2019-10-20T23:00:00Z</td>\n",
       "      <td>2019-10-21T04:00:00+05:00</td>\n",
       "      <td>pm25</td>\n",
       "      <td>µg/m³</td>\n",
       "    </tr>\n",
       "    <tr>\n",
       "      <th>2</th>\n",
       "      <td>9.0</td>\n",
       "      <td>2019-10-21T00:00:00Z</td>\n",
       "      <td>2019-10-21T05:00:00+05:00</td>\n",
       "      <td>pm25</td>\n",
       "      <td>µg/m³</td>\n",
       "    </tr>\n",
       "    <tr>\n",
       "      <th>3</th>\n",
       "      <td>8.0</td>\n",
       "      <td>2019-10-21T01:00:00Z</td>\n",
       "      <td>2019-10-21T06:00:00+05:00</td>\n",
       "      <td>pm25</td>\n",
       "      <td>µg/m³</td>\n",
       "    </tr>\n",
       "    <tr>\n",
       "      <th>4</th>\n",
       "      <td>12.0</td>\n",
       "      <td>2019-10-21T02:00:00Z</td>\n",
       "      <td>2019-10-21T07:00:00+05:00</td>\n",
       "      <td>pm25</td>\n",
       "      <td>µg/m³</td>\n",
       "    </tr>\n",
       "  </tbody>\n",
       "</table>\n",
       "</div>"
      ],
      "text/plain": [
       "   value                   utc                      local parameter  units\n",
       "0   14.0  2019-10-20T22:00:00Z  2019-10-21T03:00:00+05:00      pm25  µg/m³\n",
       "1   10.0  2019-10-20T23:00:00Z  2019-10-21T04:00:00+05:00      pm25  µg/m³\n",
       "2    9.0  2019-10-21T00:00:00Z  2019-10-21T05:00:00+05:00      pm25  µg/m³\n",
       "3    8.0  2019-10-21T01:00:00Z  2019-10-21T06:00:00+05:00      pm25  µg/m³\n",
       "4   12.0  2019-10-21T02:00:00Z  2019-10-21T07:00:00+05:00      pm25  µg/m³"
      ]
     },
     "execution_count": 57,
     "metadata": {},
     "output_type": "execute_result"
    }
   ],
   "source": [
    "turkmenistan_df.head()"
   ]
  },
  {
   "cell_type": "code",
   "execution_count": 58,
   "metadata": {},
   "outputs": [
    {
     "data": {
      "text/plain": [
       "(36078, 5)"
      ]
     },
     "execution_count": 58,
     "metadata": {},
     "output_type": "execute_result"
    }
   ],
   "source": [
    "turkmenistan_df.shape"
   ]
  },
  {
   "cell_type": "code",
   "execution_count": 59,
   "metadata": {},
   "outputs": [],
   "source": [
    "turkmenistan_df.to_csv(data_dir + 'openaq_turkmenistan_8170.csv', index=False)"
   ]
  },
  {
   "cell_type": "markdown",
   "metadata": {},
   "source": [
    "# Kyrgyzstan Osh State University - 2812567"
   ]
  },
  {
   "cell_type": "code",
   "execution_count": 60,
   "metadata": {},
   "outputs": [
    {
     "data": {
      "text/plain": [
       "[8966993]"
      ]
     },
     "execution_count": 60,
     "metadata": {},
     "output_type": "execute_result"
    }
   ],
   "source": [
    "kyrgyzstan_os_sensors_ids = get_sensors_ids(2812567)\n",
    "kyrgyzstan_os_sensors_ids"
   ]
  },
  {
   "cell_type": "code",
   "execution_count": 61,
   "metadata": {},
   "outputs": [
    {
     "data": {
      "text/plain": [
       "[8966993]"
      ]
     },
     "execution_count": 61,
     "metadata": {},
     "output_type": "execute_result"
    }
   ],
   "source": [
    "kyrgyzstan_os_sensors_ids = validate_sensors_ids(kyrgyzstan_os_sensors_ids)\n",
    "kyrgyzstan_os_sensors_ids"
   ]
  },
  {
   "cell_type": "code",
   "execution_count": 63,
   "metadata": {},
   "outputs": [
    {
     "data": {
      "text/html": [
       "<div>\n",
       "<style scoped>\n",
       "    .dataframe tbody tr th:only-of-type {\n",
       "        vertical-align: middle;\n",
       "    }\n",
       "\n",
       "    .dataframe tbody tr th {\n",
       "        vertical-align: top;\n",
       "    }\n",
       "\n",
       "    .dataframe thead th {\n",
       "        text-align: right;\n",
       "    }\n",
       "</style>\n",
       "<table border=\"1\" class=\"dataframe\">\n",
       "  <thead>\n",
       "    <tr style=\"text-align: right;\">\n",
       "      <th></th>\n",
       "      <th>value</th>\n",
       "      <th>utc</th>\n",
       "      <th>local</th>\n",
       "      <th>parameter</th>\n",
       "      <th>units</th>\n",
       "    </tr>\n",
       "  </thead>\n",
       "  <tbody>\n",
       "  </tbody>\n",
       "</table>\n",
       "</div>"
      ],
      "text/plain": [
       "Empty DataFrame\n",
       "Columns: [value, utc, local, parameter, units]\n",
       "Index: []"
      ]
     },
     "execution_count": 63,
     "metadata": {},
     "output_type": "execute_result"
    }
   ],
   "source": [
    "kyrgyzstan_os_df = pd.DataFrame(columns=['value', 'utc', 'local', 'parameter', 'units'])\n",
    "kyrgyzstan_os_df"
   ]
  },
  {
   "cell_type": "code",
   "execution_count": 64,
   "metadata": {},
   "outputs": [
    {
     "name": "stdout",
     "output_type": "stream",
     "text": [
      "2024-1 to 2024-2: 0\n",
      "2024-2 to 2024-3: 0\n",
      "2024-3 to 2024-4: 0\n",
      "2024-4 to 2024-5: 98\n"
     ]
    },
    {
     "name": "stderr",
     "output_type": "stream",
     "text": [
      "/var/folders/yg/c525c7x92dzdbplgm0_j_39r0000gn/T/ipykernel_52951/190769206.py:6: FutureWarning: The behavior of DataFrame concatenation with empty or all-NA entries is deprecated. In a future version, this will no longer exclude empty or all-NA columns when determining the result dtypes. To retain the old behavior, exclude the relevant entries before the concat operation.\n",
      "  kyrgyzstan_os_df = pd.concat([kyrgyzstan_os_df, data])\n"
     ]
    },
    {
     "name": "stdout",
     "output_type": "stream",
     "text": [
      "2024-5 to 2024-6: 674\n",
      "2024-6 to 2024-7: 661\n",
      "2024-7 to 2024-8: 601\n",
      "2024-8 to 2024-9: 568\n",
      "2024-9 to 2024-10: 523\n",
      "2024-10 to 2024-11: 12\n",
      "2024-11 to 2024-12: 0\n",
      "2024-12 to 2025-1: 0\n"
     ]
    }
   ],
   "source": [
    "for year in range(2024, 2025):\n",
    "    for month in range(1, 13):\n",
    "        data = get_data(8966993, year, month)\n",
    "        if isinstance(data, requests.models.Response):\n",
    "            break\n",
    "        kyrgyzstan_os_df = pd.concat([kyrgyzstan_os_df, data])"
   ]
  },
  {
   "cell_type": "code",
   "execution_count": 65,
   "metadata": {},
   "outputs": [
    {
     "data": {
      "text/html": [
       "<div>\n",
       "<style scoped>\n",
       "    .dataframe tbody tr th:only-of-type {\n",
       "        vertical-align: middle;\n",
       "    }\n",
       "\n",
       "    .dataframe tbody tr th {\n",
       "        vertical-align: top;\n",
       "    }\n",
       "\n",
       "    .dataframe thead th {\n",
       "        text-align: right;\n",
       "    }\n",
       "</style>\n",
       "<table border=\"1\" class=\"dataframe\">\n",
       "  <thead>\n",
       "    <tr style=\"text-align: right;\">\n",
       "      <th></th>\n",
       "      <th>value</th>\n",
       "      <th>utc</th>\n",
       "      <th>local</th>\n",
       "      <th>parameter</th>\n",
       "      <th>units</th>\n",
       "    </tr>\n",
       "  </thead>\n",
       "  <tbody>\n",
       "    <tr>\n",
       "      <th>0</th>\n",
       "      <td>8.80</td>\n",
       "      <td>2024-04-24T16:00:00Z</td>\n",
       "      <td>2024-04-24T22:00:00+06:00</td>\n",
       "      <td>pm25</td>\n",
       "      <td>µg/m³</td>\n",
       "    </tr>\n",
       "    <tr>\n",
       "      <th>1</th>\n",
       "      <td>1.60</td>\n",
       "      <td>2024-04-24T17:00:00Z</td>\n",
       "      <td>2024-04-24T23:00:00+06:00</td>\n",
       "      <td>pm25</td>\n",
       "      <td>µg/m³</td>\n",
       "    </tr>\n",
       "    <tr>\n",
       "      <th>2</th>\n",
       "      <td>0.77</td>\n",
       "      <td>2024-04-26T11:00:00Z</td>\n",
       "      <td>2024-04-26T17:00:00+06:00</td>\n",
       "      <td>pm25</td>\n",
       "      <td>µg/m³</td>\n",
       "    </tr>\n",
       "    <tr>\n",
       "      <th>3</th>\n",
       "      <td>0.51</td>\n",
       "      <td>2024-04-26T12:00:00Z</td>\n",
       "      <td>2024-04-26T18:00:00+06:00</td>\n",
       "      <td>pm25</td>\n",
       "      <td>µg/m³</td>\n",
       "    </tr>\n",
       "    <tr>\n",
       "      <th>4</th>\n",
       "      <td>0.00</td>\n",
       "      <td>2024-04-26T13:00:00Z</td>\n",
       "      <td>2024-04-26T19:00:00+06:00</td>\n",
       "      <td>pm25</td>\n",
       "      <td>µg/m³</td>\n",
       "    </tr>\n",
       "  </tbody>\n",
       "</table>\n",
       "</div>"
      ],
      "text/plain": [
       "   value                   utc                      local parameter  units\n",
       "0   8.80  2024-04-24T16:00:00Z  2024-04-24T22:00:00+06:00      pm25  µg/m³\n",
       "1   1.60  2024-04-24T17:00:00Z  2024-04-24T23:00:00+06:00      pm25  µg/m³\n",
       "2   0.77  2024-04-26T11:00:00Z  2024-04-26T17:00:00+06:00      pm25  µg/m³\n",
       "3   0.51  2024-04-26T12:00:00Z  2024-04-26T18:00:00+06:00      pm25  µg/m³\n",
       "4   0.00  2024-04-26T13:00:00Z  2024-04-26T19:00:00+06:00      pm25  µg/m³"
      ]
     },
     "execution_count": 65,
     "metadata": {},
     "output_type": "execute_result"
    }
   ],
   "source": [
    "kyrgyzstan_os_df.head()"
   ]
  },
  {
   "cell_type": "code",
   "execution_count": 66,
   "metadata": {},
   "outputs": [
    {
     "data": {
      "text/plain": [
       "(3137, 5)"
      ]
     },
     "execution_count": 66,
     "metadata": {},
     "output_type": "execute_result"
    }
   ],
   "source": [
    "kyrgyzstan_os_df.shape"
   ]
  },
  {
   "cell_type": "code",
   "execution_count": 67,
   "metadata": {},
   "outputs": [],
   "source": [
    "kyrgyzstan_os_df.to_csv(data_dir + 'openaq_kyrgyzstan_osh_state_university_2812567.csv', index=False)"
   ]
  },
  {
   "cell_type": "markdown",
   "metadata": {},
   "source": [
    "# Uzbekistan - 8881"
   ]
  },
  {
   "cell_type": "code",
   "execution_count": 68,
   "metadata": {},
   "outputs": [
    {
     "data": {
      "text/plain": [
       "[25915, 25916]"
      ]
     },
     "execution_count": 68,
     "metadata": {},
     "output_type": "execute_result"
    }
   ],
   "source": [
    "uzbekistan_sensors_ids = get_sensors_ids(8881)\n",
    "uzbekistan_sensors_ids"
   ]
  },
  {
   "cell_type": "code",
   "execution_count": 69,
   "metadata": {},
   "outputs": [
    {
     "data": {
      "text/plain": [
       "[25916]"
      ]
     },
     "execution_count": 69,
     "metadata": {},
     "output_type": "execute_result"
    }
   ],
   "source": [
    "uzbekistan_sensors_ids = validate_sensors_ids(uzbekistan_sensors_ids)\n",
    "uzbekistan_sensors_ids"
   ]
  },
  {
   "cell_type": "code",
   "execution_count": 70,
   "metadata": {},
   "outputs": [
    {
     "data": {
      "text/html": [
       "<div>\n",
       "<style scoped>\n",
       "    .dataframe tbody tr th:only-of-type {\n",
       "        vertical-align: middle;\n",
       "    }\n",
       "\n",
       "    .dataframe tbody tr th {\n",
       "        vertical-align: top;\n",
       "    }\n",
       "\n",
       "    .dataframe thead th {\n",
       "        text-align: right;\n",
       "    }\n",
       "</style>\n",
       "<table border=\"1\" class=\"dataframe\">\n",
       "  <thead>\n",
       "    <tr style=\"text-align: right;\">\n",
       "      <th></th>\n",
       "      <th>value</th>\n",
       "      <th>utc</th>\n",
       "      <th>local</th>\n",
       "      <th>parameter</th>\n",
       "      <th>units</th>\n",
       "    </tr>\n",
       "  </thead>\n",
       "  <tbody>\n",
       "  </tbody>\n",
       "</table>\n",
       "</div>"
      ],
      "text/plain": [
       "Empty DataFrame\n",
       "Columns: [value, utc, local, parameter, units]\n",
       "Index: []"
      ]
     },
     "execution_count": 70,
     "metadata": {},
     "output_type": "execute_result"
    }
   ],
   "source": [
    "uzbekistan_df = pd.DataFrame(columns=['value', 'utc', 'local', 'parameter', 'units'])\n",
    "uzbekistan_df"
   ]
  },
  {
   "cell_type": "code",
   "execution_count": 71,
   "metadata": {},
   "outputs": [
    {
     "name": "stdout",
     "output_type": "stream",
     "text": [
      "2018-1 to 2018-2: 0\n",
      "2018-2 to 2018-3: 0\n",
      "2018-3 to 2018-4: 0\n",
      "2018-4 to 2018-5: 0\n",
      "2018-5 to 2018-6: 0\n",
      "2018-6 to 2018-7: 0\n",
      "2018-7 to 2018-8: 0\n",
      "2018-8 to 2018-9: 0\n",
      "2018-9 to 2018-10: 0\n",
      "2018-10 to 2018-11: 0\n",
      "2018-11 to 2018-12: 69\n"
     ]
    },
    {
     "name": "stderr",
     "output_type": "stream",
     "text": [
      "/var/folders/yg/c525c7x92dzdbplgm0_j_39r0000gn/T/ipykernel_52951/2146102559.py:6: FutureWarning: The behavior of DataFrame concatenation with empty or all-NA entries is deprecated. In a future version, this will no longer exclude empty or all-NA columns when determining the result dtypes. To retain the old behavior, exclude the relevant entries before the concat operation.\n",
      "  uzbekistan_df = pd.concat([uzbekistan_df, data])\n"
     ]
    },
    {
     "name": "stdout",
     "output_type": "stream",
     "text": [
      "2018-12 to 2019-1: 669\n",
      "2019-1 to 2019-2: 719\n",
      "2019-2 to 2019-3: 629\n",
      "2019-3 to 2019-4: 715\n",
      "2019-4 to 2019-5: 685\n",
      "2019-5 to 2019-6: 715\n"
     ]
    },
    {
     "name": "stderr",
     "output_type": "stream",
     "text": [
      "/var/folders/yg/c525c7x92dzdbplgm0_j_39r0000gn/T/ipykernel_52951/2146102559.py:6: FutureWarning: The behavior of DataFrame concatenation with empty or all-NA entries is deprecated. In a future version, this will no longer exclude empty or all-NA columns when determining the result dtypes. To retain the old behavior, exclude the relevant entries before the concat operation.\n",
      "  uzbekistan_df = pd.concat([uzbekistan_df, data])\n"
     ]
    },
    {
     "name": "stdout",
     "output_type": "stream",
     "text": [
      "2019-6 to 2019-7: 689\n",
      "2019-7 to 2019-8: 710\n",
      "2019-8 to 2019-9: 719\n",
      "2019-9 to 2019-10: 696\n",
      "2019-10 to 2019-11: 699\n",
      "2019-11 to 2019-12: 693\n",
      "2019-12 to 2020-1: 711\n",
      "2020-1 to 2020-2: 719\n",
      "2020-2 to 2020-3: 672\n",
      "2020-3 to 2020-4: 710\n",
      "2020-4 to 2020-5: 683\n",
      "2020-5 to 2020-6: 684\n",
      "2020-6 to 2020-7: 671\n",
      "2020-7 to 2020-8: 685\n",
      "2020-8 to 2020-9: 659\n",
      "2020-9 to 2020-10: 696\n",
      "2020-10 to 2020-11: 720\n",
      "2020-11 to 2020-12: 680\n",
      "2020-12 to 2021-1: 660\n",
      "2021-1 to 2021-2: 720\n",
      "2021-2 to 2021-3: 586\n",
      "2021-3 to 2021-4: 718\n",
      "2021-4 to 2021-5: 645\n",
      "2021-5 to 2021-6: 640\n",
      "2021-6 to 2021-7: 654\n",
      "2021-7 to 2021-8: 511\n",
      "2021-8 to 2021-9: 645\n",
      "2021-9 to 2021-10: 696\n",
      "2021-10 to 2021-11: 720\n",
      "2021-11 to 2021-12: 696\n",
      "2021-12 to 2022-1: 720\n",
      "2022-1 to 2022-2: 720\n",
      "2022-2 to 2022-3: 648\n",
      "2022-3 to 2022-4: 688\n",
      "2022-4 to 2022-5: 696\n",
      "2022-5 to 2022-6: 720\n",
      "2022-6 to 2022-7: 696\n",
      "2022-7 to 2022-8: 720\n",
      "2022-8 to 2022-9: 720\n"
     ]
    },
    {
     "name": "stderr",
     "output_type": "stream",
     "text": [
      "/var/folders/yg/c525c7x92dzdbplgm0_j_39r0000gn/T/ipykernel_52951/2146102559.py:6: FutureWarning: The behavior of DataFrame concatenation with empty or all-NA entries is deprecated. In a future version, this will no longer exclude empty or all-NA columns when determining the result dtypes. To retain the old behavior, exclude the relevant entries before the concat operation.\n",
      "  uzbekistan_df = pd.concat([uzbekistan_df, data])\n"
     ]
    },
    {
     "name": "stdout",
     "output_type": "stream",
     "text": [
      "2022-9 to 2022-10: 696\n"
     ]
    },
    {
     "name": "stderr",
     "output_type": "stream",
     "text": [
      "/var/folders/yg/c525c7x92dzdbplgm0_j_39r0000gn/T/ipykernel_52951/2146102559.py:6: FutureWarning: The behavior of DataFrame concatenation with empty or all-NA entries is deprecated. In a future version, this will no longer exclude empty or all-NA columns when determining the result dtypes. To retain the old behavior, exclude the relevant entries before the concat operation.\n",
      "  uzbekistan_df = pd.concat([uzbekistan_df, data])\n"
     ]
    },
    {
     "name": "stdout",
     "output_type": "stream",
     "text": [
      "2022-10 to 2022-11: 720\n",
      "2022-11 to 2022-12: 696\n",
      "2022-12 to 2023-1: 720\n"
     ]
    }
   ],
   "source": [
    "for year in range(2018, 2023):\n",
    "    for month in range(1, 13):\n",
    "        data = get_data(25916, year, month)\n",
    "        if isinstance(data, requests.models.Response):\n",
    "            break\n",
    "        uzbekistan_df = pd.concat([uzbekistan_df, data])"
   ]
  },
  {
   "cell_type": "code",
   "execution_count": 74,
   "metadata": {},
   "outputs": [
    {
     "name": "stdout",
     "output_type": "stream",
     "text": [
      "2023-1 to 2023-2: 618\n",
      "2023-2 to 2023-3: 77\n",
      "2023-3 to 2023-4: 275\n",
      "2023-4 to 2023-5: 665\n",
      "2023-5 to 2023-6: 732\n",
      "2023-6 to 2023-7: 720\n",
      "2023-7 to 2023-8: 723\n",
      "2023-8 to 2023-9: 742\n",
      "2023-9 to 2023-10: 720\n",
      "2023-10 to 2023-11: 742\n",
      "2023-11 to 2023-12: 720\n",
      "2023-12 to 2024-1: 744\n",
      "2024-1 to 2024-2: 744\n",
      "2024-2 to 2024-3: 678\n",
      "2024-3 to 2024-4: 739\n",
      "2024-4 to 2024-5: 720\n",
      "2024-5 to 2024-6: 744\n",
      "2024-6 to 2024-7: 720\n",
      "2024-7 to 2024-8: 744\n",
      "2024-8 to 2024-9: 744\n",
      "2024-9 to 2024-10: 720\n",
      "2024-10 to 2024-11: 25\n",
      "2024-11 to 2024-12: 0\n"
     ]
    },
    {
     "name": "stderr",
     "output_type": "stream",
     "text": [
      "/var/folders/yg/c525c7x92dzdbplgm0_j_39r0000gn/T/ipykernel_52951/3422607954.py:6: FutureWarning: The behavior of DataFrame concatenation with empty or all-NA entries is deprecated. In a future version, this will no longer exclude empty or all-NA columns when determining the result dtypes. To retain the old behavior, exclude the relevant entries before the concat operation.\n",
      "  uzbekistan_df = pd.concat([uzbekistan_df, data])\n"
     ]
    },
    {
     "name": "stdout",
     "output_type": "stream",
     "text": [
      "2024-12 to 2025-1: 0\n"
     ]
    }
   ],
   "source": [
    "for year in range(2023, 2025):\n",
    "    for month in range(1, 13):\n",
    "        data = get_data(25916, year, month)\n",
    "        if isinstance(data, requests.models.Response):\n",
    "            break\n",
    "        uzbekistan_df = pd.concat([uzbekistan_df, data])"
   ]
  },
  {
   "cell_type": "code",
   "execution_count": 75,
   "metadata": {},
   "outputs": [
    {
     "data": {
      "text/html": [
       "<div>\n",
       "<style scoped>\n",
       "    .dataframe tbody tr th:only-of-type {\n",
       "        vertical-align: middle;\n",
       "    }\n",
       "\n",
       "    .dataframe tbody tr th {\n",
       "        vertical-align: top;\n",
       "    }\n",
       "\n",
       "    .dataframe thead th {\n",
       "        text-align: right;\n",
       "    }\n",
       "</style>\n",
       "<table border=\"1\" class=\"dataframe\">\n",
       "  <thead>\n",
       "    <tr style=\"text-align: right;\">\n",
       "      <th></th>\n",
       "      <th>value</th>\n",
       "      <th>utc</th>\n",
       "      <th>local</th>\n",
       "      <th>parameter</th>\n",
       "      <th>units</th>\n",
       "    </tr>\n",
       "  </thead>\n",
       "  <tbody>\n",
       "    <tr>\n",
       "      <th>0</th>\n",
       "      <td>21.0</td>\n",
       "      <td>2018-11-27T22:00:00Z</td>\n",
       "      <td>2018-11-28T03:00:00+05:00</td>\n",
       "      <td>pm25</td>\n",
       "      <td>µg/m³</td>\n",
       "    </tr>\n",
       "    <tr>\n",
       "      <th>1</th>\n",
       "      <td>36.0</td>\n",
       "      <td>2018-11-27T23:00:00Z</td>\n",
       "      <td>2018-11-28T04:00:00+05:00</td>\n",
       "      <td>pm25</td>\n",
       "      <td>µg/m³</td>\n",
       "    </tr>\n",
       "    <tr>\n",
       "      <th>2</th>\n",
       "      <td>51.0</td>\n",
       "      <td>2018-11-28T00:00:00Z</td>\n",
       "      <td>2018-11-28T05:00:00+05:00</td>\n",
       "      <td>pm25</td>\n",
       "      <td>µg/m³</td>\n",
       "    </tr>\n",
       "    <tr>\n",
       "      <th>3</th>\n",
       "      <td>36.0</td>\n",
       "      <td>2018-11-28T01:00:00Z</td>\n",
       "      <td>2018-11-28T06:00:00+05:00</td>\n",
       "      <td>pm25</td>\n",
       "      <td>µg/m³</td>\n",
       "    </tr>\n",
       "    <tr>\n",
       "      <th>4</th>\n",
       "      <td>33.0</td>\n",
       "      <td>2018-11-28T02:00:00Z</td>\n",
       "      <td>2018-11-28T07:00:00+05:00</td>\n",
       "      <td>pm25</td>\n",
       "      <td>µg/m³</td>\n",
       "    </tr>\n",
       "  </tbody>\n",
       "</table>\n",
       "</div>"
      ],
      "text/plain": [
       "   value                   utc                      local parameter  units\n",
       "0   21.0  2018-11-27T22:00:00Z  2018-11-28T03:00:00+05:00      pm25  µg/m³\n",
       "1   36.0  2018-11-27T23:00:00Z  2018-11-28T04:00:00+05:00      pm25  µg/m³\n",
       "2   51.0  2018-11-28T00:00:00Z  2018-11-28T05:00:00+05:00      pm25  µg/m³\n",
       "3   36.0  2018-11-28T01:00:00Z  2018-11-28T06:00:00+05:00      pm25  µg/m³\n",
       "4   33.0  2018-11-28T02:00:00Z  2018-11-28T07:00:00+05:00      pm25  µg/m³"
      ]
     },
     "execution_count": 75,
     "metadata": {},
     "output_type": "execute_result"
    }
   ],
   "source": [
    "uzbekistan_df.head()"
   ]
  },
  {
   "cell_type": "code",
   "execution_count": 76,
   "metadata": {},
   "outputs": [
    {
     "data": {
      "text/plain": [
       "(47804, 5)"
      ]
     },
     "execution_count": 76,
     "metadata": {},
     "output_type": "execute_result"
    }
   ],
   "source": [
    "uzbekistan_df.shape"
   ]
  },
  {
   "cell_type": "code",
   "execution_count": 77,
   "metadata": {},
   "outputs": [],
   "source": [
    "uzbekistan_df.to_csv(data_dir + 'openaq_uzbekistan_8881.csv', index=False)"
   ]
  },
  {
   "cell_type": "markdown",
   "metadata": {},
   "source": [
    "# Tajikistan Dushanbe - 8684"
   ]
  },
  {
   "cell_type": "code",
   "execution_count": 78,
   "metadata": {},
   "outputs": [
    {
     "data": {
      "text/plain": [
       "[25215]"
      ]
     },
     "execution_count": 78,
     "metadata": {},
     "output_type": "execute_result"
    }
   ],
   "source": [
    "tajikistan_dushanbe_sensors_ids = get_sensors_ids(8684)\n",
    "tajikistan_dushanbe_sensors_ids"
   ]
  },
  {
   "cell_type": "code",
   "execution_count": 79,
   "metadata": {},
   "outputs": [
    {
     "data": {
      "text/plain": [
       "[25215]"
      ]
     },
     "execution_count": 79,
     "metadata": {},
     "output_type": "execute_result"
    }
   ],
   "source": [
    "tajikistan_dushanbe_sensors_ids = validate_sensors_ids(tajikistan_dushanbe_sensors_ids)\n",
    "tajikistan_dushanbe_sensors_ids"
   ]
  },
  {
   "cell_type": "code",
   "execution_count": 80,
   "metadata": {},
   "outputs": [
    {
     "data": {
      "text/html": [
       "<div>\n",
       "<style scoped>\n",
       "    .dataframe tbody tr th:only-of-type {\n",
       "        vertical-align: middle;\n",
       "    }\n",
       "\n",
       "    .dataframe tbody tr th {\n",
       "        vertical-align: top;\n",
       "    }\n",
       "\n",
       "    .dataframe thead th {\n",
       "        text-align: right;\n",
       "    }\n",
       "</style>\n",
       "<table border=\"1\" class=\"dataframe\">\n",
       "  <thead>\n",
       "    <tr style=\"text-align: right;\">\n",
       "      <th></th>\n",
       "      <th>value</th>\n",
       "      <th>utc</th>\n",
       "      <th>local</th>\n",
       "      <th>parameter</th>\n",
       "      <th>units</th>\n",
       "    </tr>\n",
       "  </thead>\n",
       "  <tbody>\n",
       "  </tbody>\n",
       "</table>\n",
       "</div>"
      ],
      "text/plain": [
       "Empty DataFrame\n",
       "Columns: [value, utc, local, parameter, units]\n",
       "Index: []"
      ]
     },
     "execution_count": 80,
     "metadata": {},
     "output_type": "execute_result"
    }
   ],
   "source": [
    "tajikistan_dushanbe_df = pd.DataFrame(columns=['value', 'utc', 'local', 'parameter', 'units'])\n",
    "tajikistan_dushanbe_df"
   ]
  },
  {
   "cell_type": "code",
   "execution_count": 81,
   "metadata": {},
   "outputs": [
    {
     "name": "stdout",
     "output_type": "stream",
     "text": [
      "2019-1 to 2019-2: 0\n",
      "2019-2 to 2019-3: 0\n",
      "2019-3 to 2019-4: 0\n",
      "2019-4 to 2019-5: 0\n",
      "2019-5 to 2019-6: 0\n",
      "2019-6 to 2019-7: 0\n",
      "2019-7 to 2019-8: 0\n",
      "2019-8 to 2019-9: 0\n",
      "2019-9 to 2019-10: 0\n",
      "2019-10 to 2019-11: 72\n"
     ]
    },
    {
     "name": "stderr",
     "output_type": "stream",
     "text": [
      "/var/folders/yg/c525c7x92dzdbplgm0_j_39r0000gn/T/ipykernel_52951/4068343.py:6: FutureWarning: The behavior of DataFrame concatenation with empty or all-NA entries is deprecated. In a future version, this will no longer exclude empty or all-NA columns when determining the result dtypes. To retain the old behavior, exclude the relevant entries before the concat operation.\n",
      "  tajikistan_dushanbe_df = pd.concat([tajikistan_dushanbe_df, data])\n"
     ]
    },
    {
     "name": "stdout",
     "output_type": "stream",
     "text": [
      "2019-11 to 2019-12: 690\n",
      "2019-12 to 2020-1: 706\n",
      "2020-1 to 2020-2: 715\n",
      "2020-2 to 2020-3: 657\n",
      "2020-3 to 2020-4: 697\n",
      "2020-4 to 2020-5: 644\n",
      "2020-5 to 2020-6: 594\n",
      "2020-6 to 2020-7: 596\n",
      "2020-7 to 2020-8: 582\n",
      "2020-8 to 2020-9: 540\n",
      "2020-9 to 2020-10: 571\n",
      "2020-10 to 2020-11: 621\n",
      "2020-11 to 2020-12: 589\n",
      "2020-12 to 2021-1: 471\n",
      "2021-1 to 2021-2: 646\n",
      "2021-2 to 2021-3: 508\n",
      "2021-3 to 2021-4: 581\n",
      "2021-4 to 2021-5: 406\n",
      "2021-5 to 2021-6: 328\n",
      "2021-6 to 2021-7: 384\n",
      "2021-7 to 2021-8: 323\n",
      "2021-8 to 2021-9: 514\n",
      "2021-9 to 2021-10: 649\n",
      "2021-10 to 2021-11: 700\n",
      "2021-11 to 2021-12: 659\n",
      "2021-12 to 2022-1: 684\n",
      "2022-1 to 2022-2: 667\n",
      "2022-2 to 2022-3: 499\n",
      "2022-3 to 2022-4: 404\n",
      "2022-4 to 2022-5: 670\n",
      "2022-5 to 2022-6: 659\n",
      "2022-6 to 2022-7: 671\n",
      "2022-7 to 2022-8: 550\n",
      "2022-8 to 2022-9: 711\n",
      "2022-9 to 2022-10: 688\n",
      "2022-10 to 2022-11: 702\n",
      "2022-11 to 2022-12: 656\n",
      "2022-12 to 2023-1: 715\n",
      "2023-1 to 2023-2: 614\n",
      "2023-2 to 2023-3: 78\n",
      "2023-3 to 2023-4: 216\n",
      "2023-4 to 2023-5: 524\n",
      "2023-5 to 2023-6: 685\n",
      "2023-6 to 2023-7: 718\n",
      "2023-7 to 2023-8: 719\n",
      "2023-8 to 2023-9: 743\n",
      "2023-9 to 2023-10: 609\n",
      "2023-10 to 2023-11: 687\n",
      "2023-11 to 2023-12: 535\n",
      "2023-12 to 2024-1: 737\n",
      "2024-1 to 2024-2: 710\n",
      "2024-2 to 2024-3: 675\n",
      "2024-3 to 2024-4: 730\n",
      "2024-4 to 2024-5: 717\n",
      "2024-5 to 2024-6: 744\n",
      "2024-6 to 2024-7: 712\n",
      "2024-7 to 2024-8: 743\n",
      "2024-8 to 2024-9: 621\n",
      "2024-9 to 2024-10: 715\n",
      "2024-10 to 2024-11: 25\n",
      "2024-11 to 2024-12: 0\n",
      "2024-12 to 2025-1: 0\n"
     ]
    }
   ],
   "source": [
    "for year in range(2019, 2025):\n",
    "    for month in range(1, 13):\n",
    "        data = get_data(25215, year, month)\n",
    "        if isinstance(data, requests.models.Response):\n",
    "            break\n",
    "        tajikistan_dushanbe_df = pd.concat([tajikistan_dushanbe_df, data])"
   ]
  },
  {
   "cell_type": "code",
   "execution_count": 82,
   "metadata": {},
   "outputs": [
    {
     "data": {
      "text/html": [
       "<div>\n",
       "<style scoped>\n",
       "    .dataframe tbody tr th:only-of-type {\n",
       "        vertical-align: middle;\n",
       "    }\n",
       "\n",
       "    .dataframe tbody tr th {\n",
       "        vertical-align: top;\n",
       "    }\n",
       "\n",
       "    .dataframe thead th {\n",
       "        text-align: right;\n",
       "    }\n",
       "</style>\n",
       "<table border=\"1\" class=\"dataframe\">\n",
       "  <thead>\n",
       "    <tr style=\"text-align: right;\">\n",
       "      <th></th>\n",
       "      <th>value</th>\n",
       "      <th>utc</th>\n",
       "      <th>local</th>\n",
       "      <th>parameter</th>\n",
       "      <th>units</th>\n",
       "    </tr>\n",
       "  </thead>\n",
       "  <tbody>\n",
       "    <tr>\n",
       "      <th>0</th>\n",
       "      <td>29.0</td>\n",
       "      <td>2019-10-28T19:00:00Z</td>\n",
       "      <td>2019-10-29T00:00:00+05:00</td>\n",
       "      <td>pm25</td>\n",
       "      <td>µg/m³</td>\n",
       "    </tr>\n",
       "    <tr>\n",
       "      <th>1</th>\n",
       "      <td>29.0</td>\n",
       "      <td>2019-10-28T20:00:00Z</td>\n",
       "      <td>2019-10-29T01:00:00+05:00</td>\n",
       "      <td>pm25</td>\n",
       "      <td>µg/m³</td>\n",
       "    </tr>\n",
       "    <tr>\n",
       "      <th>2</th>\n",
       "      <td>26.0</td>\n",
       "      <td>2019-10-28T21:00:00Z</td>\n",
       "      <td>2019-10-29T02:00:00+05:00</td>\n",
       "      <td>pm25</td>\n",
       "      <td>µg/m³</td>\n",
       "    </tr>\n",
       "    <tr>\n",
       "      <th>3</th>\n",
       "      <td>21.0</td>\n",
       "      <td>2019-10-28T22:00:00Z</td>\n",
       "      <td>2019-10-29T03:00:00+05:00</td>\n",
       "      <td>pm25</td>\n",
       "      <td>µg/m³</td>\n",
       "    </tr>\n",
       "    <tr>\n",
       "      <th>4</th>\n",
       "      <td>39.0</td>\n",
       "      <td>2019-10-28T23:00:00Z</td>\n",
       "      <td>2019-10-29T04:00:00+05:00</td>\n",
       "      <td>pm25</td>\n",
       "      <td>µg/m³</td>\n",
       "    </tr>\n",
       "  </tbody>\n",
       "</table>\n",
       "</div>"
      ],
      "text/plain": [
       "   value                   utc                      local parameter  units\n",
       "0   29.0  2019-10-28T19:00:00Z  2019-10-29T00:00:00+05:00      pm25  µg/m³\n",
       "1   29.0  2019-10-28T20:00:00Z  2019-10-29T01:00:00+05:00      pm25  µg/m³\n",
       "2   26.0  2019-10-28T21:00:00Z  2019-10-29T02:00:00+05:00      pm25  µg/m³\n",
       "3   21.0  2019-10-28T22:00:00Z  2019-10-29T03:00:00+05:00      pm25  µg/m³\n",
       "4   39.0  2019-10-28T23:00:00Z  2019-10-29T04:00:00+05:00      pm25  µg/m³"
      ]
     },
     "execution_count": 82,
     "metadata": {},
     "output_type": "execute_result"
    }
   ],
   "source": [
    "tajikistan_dushanbe_df.head()"
   ]
  },
  {
   "cell_type": "code",
   "execution_count": 83,
   "metadata": {},
   "outputs": [
    {
     "data": {
      "text/plain": [
       "(35976, 5)"
      ]
     },
     "execution_count": 83,
     "metadata": {},
     "output_type": "execute_result"
    }
   ],
   "source": [
    "tajikistan_dushanbe_df.shape"
   ]
  },
  {
   "cell_type": "code",
   "execution_count": 84,
   "metadata": {},
   "outputs": [],
   "source": [
    "tajikistan_dushanbe_df.to_csv(data_dir + 'openaq_tajikistan_dushanbe_8684.csv', index=False)"
   ]
  },
  {
   "cell_type": "markdown",
   "metadata": {},
   "source": [
    "# Tajikistan Embassy - 9769"
   ]
  },
  {
   "cell_type": "code",
   "execution_count": 85,
   "metadata": {},
   "outputs": [
    {
     "data": {
      "text/plain": [
       "[30477]"
      ]
     },
     "execution_count": 85,
     "metadata": {},
     "output_type": "execute_result"
    }
   ],
   "source": [
    "tajikistan_embassy_sensors_ids = get_sensors_ids(9769)\n",
    "tajikistan_embassy_sensors_ids"
   ]
  },
  {
   "cell_type": "code",
   "execution_count": 86,
   "metadata": {},
   "outputs": [
    {
     "data": {
      "text/plain": [
       "[30477]"
      ]
     },
     "execution_count": 86,
     "metadata": {},
     "output_type": "execute_result"
    }
   ],
   "source": [
    "tajikistan_embassy_sensors_ids = validate_sensors_ids(tajikistan_embassy_sensors_ids)\n",
    "tajikistan_embassy_sensors_ids"
   ]
  },
  {
   "cell_type": "code",
   "execution_count": 87,
   "metadata": {},
   "outputs": [
    {
     "data": {
      "text/html": [
       "<div>\n",
       "<style scoped>\n",
       "    .dataframe tbody tr th:only-of-type {\n",
       "        vertical-align: middle;\n",
       "    }\n",
       "\n",
       "    .dataframe tbody tr th {\n",
       "        vertical-align: top;\n",
       "    }\n",
       "\n",
       "    .dataframe thead th {\n",
       "        text-align: right;\n",
       "    }\n",
       "</style>\n",
       "<table border=\"1\" class=\"dataframe\">\n",
       "  <thead>\n",
       "    <tr style=\"text-align: right;\">\n",
       "      <th></th>\n",
       "      <th>value</th>\n",
       "      <th>utc</th>\n",
       "      <th>local</th>\n",
       "      <th>parameter</th>\n",
       "      <th>units</th>\n",
       "    </tr>\n",
       "  </thead>\n",
       "  <tbody>\n",
       "  </tbody>\n",
       "</table>\n",
       "</div>"
      ],
      "text/plain": [
       "Empty DataFrame\n",
       "Columns: [value, utc, local, parameter, units]\n",
       "Index: []"
      ]
     },
     "execution_count": 87,
     "metadata": {},
     "output_type": "execute_result"
    }
   ],
   "source": [
    "tajikistan_embassy_df = pd.DataFrame(columns=['value', 'utc', 'local', 'parameter', 'units'])\n",
    "tajikistan_embassy_df"
   ]
  },
  {
   "cell_type": "code",
   "execution_count": 88,
   "metadata": {},
   "outputs": [
    {
     "name": "stdout",
     "output_type": "stream",
     "text": [
      "2019-1 to 2019-2: 0\n",
      "2019-2 to 2019-3: 0\n",
      "2019-3 to 2019-4: 0\n",
      "2019-4 to 2019-5: 0\n",
      "2019-5 to 2019-6: 0\n",
      "2019-6 to 2019-7: 0\n",
      "2019-7 to 2019-8: 0\n",
      "2019-8 to 2019-9: 0\n",
      "2019-9 to 2019-10: 0\n",
      "2019-10 to 2019-11: 256\n"
     ]
    },
    {
     "name": "stderr",
     "output_type": "stream",
     "text": [
      "/var/folders/yg/c525c7x92dzdbplgm0_j_39r0000gn/T/ipykernel_52951/3598324360.py:6: FutureWarning: The behavior of DataFrame concatenation with empty or all-NA entries is deprecated. In a future version, this will no longer exclude empty or all-NA columns when determining the result dtypes. To retain the old behavior, exclude the relevant entries before the concat operation.\n",
      "  tajikistan_embassy_df = pd.concat([tajikistan_embassy_df, data])\n"
     ]
    },
    {
     "name": "stdout",
     "output_type": "stream",
     "text": [
      "2019-11 to 2019-12: 692\n",
      "2019-12 to 2020-1: 710\n",
      "2020-1 to 2020-2: 720\n",
      "2020-2 to 2020-3: 672\n",
      "2020-3 to 2020-4: 707\n",
      "2020-4 to 2020-5: 658\n",
      "2020-5 to 2020-6: 524\n",
      "2020-6 to 2020-7: 546\n",
      "2020-7 to 2020-8: 618\n",
      "2020-8 to 2020-9: 651\n",
      "2020-9 to 2020-10: 677\n",
      "2020-10 to 2020-11: 720\n",
      "2020-11 to 2020-12: 616\n",
      "2020-12 to 2021-1: 648\n",
      "2021-1 to 2021-2: 720\n",
      "2021-2 to 2021-3: 579\n",
      "2021-3 to 2021-4: 711\n",
      "2021-4 to 2021-5: 613\n",
      "2021-5 to 2021-6: 633\n",
      "2021-6 to 2021-7: 656\n",
      "2021-7 to 2021-8: 508\n",
      "2021-8 to 2021-9: 643\n",
      "2021-9 to 2021-10: 696\n",
      "2021-10 to 2021-11: 720\n",
      "2021-11 to 2021-12: 696\n",
      "2021-12 to 2022-1: 720\n",
      "2022-1 to 2022-2: 720\n",
      "2022-2 to 2022-3: 648\n",
      "2022-3 to 2022-4: 688\n",
      "2022-4 to 2022-5: 696\n",
      "2022-5 to 2022-6: 720\n",
      "2022-6 to 2022-7: 696\n",
      "2022-7 to 2022-8: 720\n",
      "2022-8 to 2022-9: 720\n",
      "2022-9 to 2022-10: 696\n",
      "2022-10 to 2022-11: 720\n",
      "2022-11 to 2022-12: 696\n",
      "2022-12 to 2023-1: 720\n",
      "2023-1 to 2023-2: 618\n",
      "2023-2 to 2023-3: 77\n",
      "2023-3 to 2023-4: 275\n",
      "2023-4 to 2023-5: 653\n",
      "2023-5 to 2023-6: 671\n",
      "2023-6 to 2023-7: 704\n",
      "2023-7 to 2023-8: 671\n",
      "2023-8 to 2023-9: 617\n",
      "2023-9 to 2023-10: 720\n",
      "2023-10 to 2023-11: 522\n",
      "2023-11 to 2023-12: 42\n"
     ]
    },
    {
     "name": "stderr",
     "output_type": "stream",
     "text": [
      "/var/folders/yg/c525c7x92dzdbplgm0_j_39r0000gn/T/ipykernel_52951/3598324360.py:6: FutureWarning: The behavior of DataFrame concatenation with empty or all-NA entries is deprecated. In a future version, this will no longer exclude empty or all-NA columns when determining the result dtypes. To retain the old behavior, exclude the relevant entries before the concat operation.\n",
      "  tajikistan_embassy_df = pd.concat([tajikistan_embassy_df, data])\n"
     ]
    },
    {
     "name": "stdout",
     "output_type": "stream",
     "text": [
      "2023-12 to 2024-1: 0\n"
     ]
    }
   ],
   "source": [
    "for year in range(2019, 2025):\n",
    "    for month in range(1, 13):\n",
    "        data = get_data(30477, year, month)\n",
    "        if isinstance(data, requests.models.Response):\n",
    "            break\n",
    "        tajikistan_embassy_df = pd.concat([tajikistan_embassy_df, data])"
   ]
  },
  {
   "cell_type": "code",
   "execution_count": 90,
   "metadata": {},
   "outputs": [
    {
     "name": "stdout",
     "output_type": "stream",
     "text": [
      "2024-1 to 2024-2: 0\n",
      "2024-2 to 2024-3: 0\n",
      "2024-3 to 2024-4: 305\n",
      "2024-4 to 2024-5: 720\n",
      "2024-5 to 2024-6: 744\n",
      "2024-6 to 2024-7: 720\n",
      "2024-7 to 2024-8: 744\n",
      "2024-8 to 2024-9: 744\n",
      "2024-9 to 2024-10: 720\n",
      "2024-10 to 2024-11: 26\n",
      "2024-11 to 2024-12: 0\n",
      "2024-12 to 2025-1: 0\n"
     ]
    }
   ],
   "source": [
    "for year in range(2024, 2025):\n",
    "    for month in range(1, 13):\n",
    "        data = get_data(30477, year, month)\n",
    "        if isinstance(data, requests.models.Response):\n",
    "            break\n",
    "        tajikistan_embassy_df = pd.concat([tajikistan_embassy_df, data])"
   ]
  },
  {
   "cell_type": "code",
   "execution_count": 91,
   "metadata": {},
   "outputs": [
    {
     "data": {
      "text/html": [
       "<div>\n",
       "<style scoped>\n",
       "    .dataframe tbody tr th:only-of-type {\n",
       "        vertical-align: middle;\n",
       "    }\n",
       "\n",
       "    .dataframe tbody tr th {\n",
       "        vertical-align: top;\n",
       "    }\n",
       "\n",
       "    .dataframe thead th {\n",
       "        text-align: right;\n",
       "    }\n",
       "</style>\n",
       "<table border=\"1\" class=\"dataframe\">\n",
       "  <thead>\n",
       "    <tr style=\"text-align: right;\">\n",
       "      <th></th>\n",
       "      <th>value</th>\n",
       "      <th>utc</th>\n",
       "      <th>local</th>\n",
       "      <th>parameter</th>\n",
       "      <th>units</th>\n",
       "    </tr>\n",
       "  </thead>\n",
       "  <tbody>\n",
       "    <tr>\n",
       "      <th>0</th>\n",
       "      <td>34.0</td>\n",
       "      <td>2019-10-20T23:00:00Z</td>\n",
       "      <td>2019-10-21T04:00:00+05:00</td>\n",
       "      <td>pm25</td>\n",
       "      <td>µg/m³</td>\n",
       "    </tr>\n",
       "    <tr>\n",
       "      <th>1</th>\n",
       "      <td>44.0</td>\n",
       "      <td>2019-10-21T00:00:00Z</td>\n",
       "      <td>2019-10-21T05:00:00+05:00</td>\n",
       "      <td>pm25</td>\n",
       "      <td>µg/m³</td>\n",
       "    </tr>\n",
       "    <tr>\n",
       "      <th>2</th>\n",
       "      <td>51.0</td>\n",
       "      <td>2019-10-21T01:00:00Z</td>\n",
       "      <td>2019-10-21T06:00:00+05:00</td>\n",
       "      <td>pm25</td>\n",
       "      <td>µg/m³</td>\n",
       "    </tr>\n",
       "    <tr>\n",
       "      <th>3</th>\n",
       "      <td>45.0</td>\n",
       "      <td>2019-10-21T02:00:00Z</td>\n",
       "      <td>2019-10-21T07:00:00+05:00</td>\n",
       "      <td>pm25</td>\n",
       "      <td>µg/m³</td>\n",
       "    </tr>\n",
       "    <tr>\n",
       "      <th>4</th>\n",
       "      <td>60.0</td>\n",
       "      <td>2019-10-21T03:00:00Z</td>\n",
       "      <td>2019-10-21T08:00:00+05:00</td>\n",
       "      <td>pm25</td>\n",
       "      <td>µg/m³</td>\n",
       "    </tr>\n",
       "  </tbody>\n",
       "</table>\n",
       "</div>"
      ],
      "text/plain": [
       "   value                   utc                      local parameter  units\n",
       "0   34.0  2019-10-20T23:00:00Z  2019-10-21T04:00:00+05:00      pm25  µg/m³\n",
       "1   44.0  2019-10-21T00:00:00Z  2019-10-21T05:00:00+05:00      pm25  µg/m³\n",
       "2   51.0  2019-10-21T01:00:00Z  2019-10-21T06:00:00+05:00      pm25  µg/m³\n",
       "3   45.0  2019-10-21T02:00:00Z  2019-10-21T07:00:00+05:00      pm25  µg/m³\n",
       "4   60.0  2019-10-21T03:00:00Z  2019-10-21T08:00:00+05:00      pm25  µg/m³"
      ]
     },
     "execution_count": 91,
     "metadata": {},
     "output_type": "execute_result"
    }
   ],
   "source": [
    "tajikistan_embassy_df.head()"
   ]
  },
  {
   "cell_type": "code",
   "execution_count": 92,
   "metadata": {},
   "outputs": [
    {
     "data": {
      "text/plain": [
       "(36043, 5)"
      ]
     },
     "execution_count": 92,
     "metadata": {},
     "output_type": "execute_result"
    }
   ],
   "source": [
    "tajikistan_embassy_df.shape"
   ]
  },
  {
   "cell_type": "code",
   "execution_count": 93,
   "metadata": {},
   "outputs": [],
   "source": [
    "tajikistan_embassy_df.to_csv(data_dir + 'openaq_tajikistan_embassy_9769.csv', index=False)"
   ]
  }
 ],
 "metadata": {
  "kernelspec": {
   "display_name": "Python 3",
   "language": "python",
   "name": "python3"
  },
  "language_info": {
   "codemirror_mode": {
    "name": "ipython",
    "version": 3
   },
   "file_extension": ".py",
   "mimetype": "text/x-python",
   "name": "python",
   "nbconvert_exporter": "python",
   "pygments_lexer": "ipython3",
   "version": "3.12.0"
  }
 },
 "nbformat": 4,
 "nbformat_minor": 2
}
