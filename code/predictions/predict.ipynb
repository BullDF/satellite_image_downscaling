{
 "cells": [
  {
   "cell_type": "code",
   "execution_count": 1,
   "id": "edfcedc1",
   "metadata": {},
   "outputs": [
    {
     "name": "stdout",
     "output_type": "stream",
     "text": [
      "Using mps\n"
     ]
    }
   ],
   "source": [
    "from utils import *\n",
    "import geopandas as gpd"
   ]
  },
  {
   "cell_type": "code",
   "execution_count": 6,
   "id": "29aac8bd",
   "metadata": {},
   "outputs": [
    {
     "name": "stdout",
     "output_type": "stream",
     "text": [
      "60.50486755371094\n",
      "74.89412689209007\n",
      "29.361572265625114\n",
      "38.490924835205305\n"
     ]
    }
   ],
   "source": [
    "gdf = gpd.read_file(get_shapefile_name('AFG'))\n",
    "print(gdf.geometry.bounds.minx.min())\n",
    "print(gdf.geometry.bounds.maxx.max())\n",
    "print(gdf.geometry.bounds.miny.min())\n",
    "print(gdf.geometry.bounds.maxy.max())"
   ]
  },
  {
   "cell_type": "code",
   "execution_count": null,
   "id": "9857ef1c",
   "metadata": {},
   "outputs": [],
   "source": []
  }
 ],
 "metadata": {
  "kernelspec": {
   "display_name": "Python 3",
   "language": "python",
   "name": "python3"
  },
  "language_info": {
   "codemirror_mode": {
    "name": "ipython",
    "version": 3
   },
   "file_extension": ".py",
   "mimetype": "text/x-python",
   "name": "python",
   "nbconvert_exporter": "python",
   "pygments_lexer": "ipython3",
   "version": "3.13.1"
  }
 },
 "nbformat": 4,
 "nbformat_minor": 5
}
